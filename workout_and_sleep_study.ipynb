{
 "cells": [
  {
   "cell_type": "markdown",
   "metadata": {},
   "source": [
    "# Imports"
   ]
  },
  {
   "cell_type": "code",
   "execution_count": 89,
   "metadata": {
    "scrolled": true
   },
   "outputs": [],
   "source": [
    "import pandas as pd\n",
    "import matplotlib\n",
    "from matplotlib import pyplot as plt\n",
    "from scipy.stats import ttest_rel\n",
    "from numpy import std, mean, sqrt\n",
    "import statsmodels.api as sm"
   ]
  },
  {
   "cell_type": "code",
   "execution_count": 90,
   "metadata": {},
   "outputs": [],
   "source": [
    "%matplotlib inline"
   ]
  },
  {
   "cell_type": "markdown",
   "metadata": {},
   "source": [
    "# Data Import & Cleaning"
   ]
  },
  {
   "cell_type": "markdown",
   "metadata": {},
   "source": [
    "## Import"
   ]
  },
  {
   "cell_type": "code",
   "execution_count": 91,
   "metadata": {
    "scrolled": true
   },
   "outputs": [],
   "source": [
    "activities = pd.read_csv('./data/activities.csv')\n",
    "sleep = pd.read_csv('./data/sleep.csv')"
   ]
  },
  {
   "cell_type": "code",
   "execution_count": 92,
   "metadata": {},
   "outputs": [
    {
     "name": "stdout",
     "output_type": "stream",
     "text": [
      "<class 'pandas.core.frame.DataFrame'>\n",
      "RangeIndex: 41 entries, 0 to 40\n",
      "Data columns (total 9 columns):\n",
      "Start Time              41 non-null object\n",
      "End Time                41 non-null object\n",
      "Minutes Asleep          41 non-null int64\n",
      "Minutes Awake           41 non-null int64\n",
      "Number of Awakenings    41 non-null int64\n",
      "Time in Bed             41 non-null int64\n",
      "Minutes REM Sleep       30 non-null float64\n",
      "Minutes Light Sleep     30 non-null float64\n",
      "Minutes Deep Sleep      30 non-null float64\n",
      "dtypes: float64(3), int64(4), object(2)\n",
      "memory usage: 3.0+ KB\n"
     ]
    }
   ],
   "source": [
    "sleep.info()"
   ]
  },
  {
   "cell_type": "code",
   "execution_count": 93,
   "metadata": {},
   "outputs": [
    {
     "name": "stdout",
     "output_type": "stream",
     "text": [
      "<class 'pandas.core.frame.DataFrame'>\n",
      "RangeIndex: 54 entries, 0 to 53\n",
      "Data columns (total 10 columns):\n",
      "Date                      54 non-null object\n",
      "Calories Burned           54 non-null int64\n",
      "Steps                     54 non-null int64\n",
      "Distance                  54 non-null float64\n",
      "Floors                    54 non-null int64\n",
      "Minutes Sedentary         54 non-null int64\n",
      "Minutes Lightly Active    54 non-null int64\n",
      "Minutes Fairly Active     54 non-null int64\n",
      "Minutes Very Active       54 non-null int64\n",
      "Activity Calories         54 non-null int64\n",
      "dtypes: float64(1), int64(8), object(1)\n",
      "memory usage: 4.3+ KB\n"
     ]
    }
   ],
   "source": [
    "activities.info()"
   ]
  },
  {
   "cell_type": "code",
   "execution_count": 94,
   "metadata": {},
   "outputs": [],
   "source": [
    "sleep.index = pd.to_datetime(sleep['Start Time']).dt.date\n",
    "sleep.index = pd.to_datetime(sleep.index)\n",
    "sleep.index.name = 'Date'"
   ]
  },
  {
   "cell_type": "code",
   "execution_count": 95,
   "metadata": {
    "scrolled": false
   },
   "outputs": [],
   "source": [
    "activities.loc[:, 'Date'] = pd.to_datetime(activities['Date'])\n",
    "activities = activities.set_index('Date', drop=True)"
   ]
  },
  {
   "cell_type": "markdown",
   "metadata": {},
   "source": [
    "## Clean"
   ]
  },
  {
   "cell_type": "markdown",
   "metadata": {},
   "source": [
    "Remove the empty values from the sleep data and join the data sets retaining only the dates for which there is full information."
   ]
  },
  {
   "cell_type": "code",
   "execution_count": 96,
   "metadata": {
    "scrolled": true
   },
   "outputs": [],
   "source": [
    "sleep = sleep.dropna(how='any')"
   ]
  },
  {
   "cell_type": "code",
   "execution_count": 97,
   "metadata": {
    "scrolled": true
   },
   "outputs": [],
   "source": [
    "data = activities.merge(sleep, how='inner', left_index=True, right_index=True)"
   ]
  },
  {
   "cell_type": "markdown",
   "metadata": {},
   "source": [
    "Let's add ratios for the sleep-stage variables and remove some of the columns we don't need."
   ]
  },
  {
   "cell_type": "code",
   "execution_count": 98,
   "metadata": {},
   "outputs": [
    {
     "data": {
      "text/plain": [
       "Index(['Calories Burned', 'Steps', 'Distance', 'Floors', 'Minutes Sedentary',\n",
       "       'Minutes Lightly Active', 'Minutes Fairly Active',\n",
       "       'Minutes Very Active', 'Activity Calories', 'Start Time', 'End Time',\n",
       "       'Minutes Asleep', 'Minutes Awake', 'Number of Awakenings',\n",
       "       'Time in Bed', 'Minutes REM Sleep', 'Minutes Light Sleep',\n",
       "       'Minutes Deep Sleep', 'light_sleep_ratio', 'deep_sleep_ratio',\n",
       "       'rem_sleep_ratio'],\n",
       "      dtype='object')"
      ]
     },
     "execution_count": 98,
     "metadata": {},
     "output_type": "execute_result"
    }
   ],
   "source": [
    "data['light_sleep_ratio'] = data['Minutes Light Sleep'] / data['Minutes Asleep']\n",
    "data['deep_sleep_ratio'] = data['Minutes Deep Sleep'] / data['Minutes Asleep']\n",
    "data['rem_sleep_ratio'] = data['Minutes REM Sleep'] / data['Minutes Asleep']\n",
    "data.columns"
   ]
  },
  {
   "cell_type": "markdown",
   "metadata": {},
   "source": [
    "# T-Test"
   ]
  },
  {
   "cell_type": "markdown",
   "metadata": {},
   "source": [
    "Split the data into cardio and weights samples and perform a Student t-test on the deep_sleep_ratio variable."
   ]
  },
  {
   "cell_type": "code",
   "execution_count": 99,
   "metadata": {},
   "outputs": [
    {
     "name": "stdout",
     "output_type": "stream",
     "text": [
      "14 15\n"
     ]
    }
   ],
   "source": [
    "cardio_s = data.loc[:'2019-03-30']\n",
    "weights_s = data.loc['2019-03-30':]\n",
    "print(len(cardio_s), len(weights_s))"
   ]
  },
  {
   "cell_type": "code",
   "execution_count": 100,
   "metadata": {},
   "outputs": [],
   "source": [
    "weights_s = weights_s.iloc[:-1]  # to allow for within-subject t-test"
   ]
  },
  {
   "cell_type": "markdown",
   "metadata": {},
   "source": [
    "## Explore"
   ]
  },
  {
   "cell_type": "code",
   "execution_count": 101,
   "metadata": {},
   "outputs": [],
   "source": [
    "cardio_s_deep = cardio_s['deep_sleep_ratio']\n",
    "weights_s_deep = weights_s['deep_sleep_ratio']"
   ]
  },
  {
   "cell_type": "code",
   "execution_count": 102,
   "metadata": {},
   "outputs": [
    {
     "data": {
      "text/html": [
       "<div>\n",
       "<style scoped>\n",
       "    .dataframe tbody tr th:only-of-type {\n",
       "        vertical-align: middle;\n",
       "    }\n",
       "\n",
       "    .dataframe tbody tr th {\n",
       "        vertical-align: top;\n",
       "    }\n",
       "\n",
       "    .dataframe thead th {\n",
       "        text-align: right;\n",
       "    }\n",
       "</style>\n",
       "<table border=\"1\" class=\"dataframe\">\n",
       "  <thead>\n",
       "    <tr style=\"text-align: right;\">\n",
       "      <th></th>\n",
       "      <th>cardio</th>\n",
       "      <th>weights</th>\n",
       "    </tr>\n",
       "  </thead>\n",
       "  <tbody>\n",
       "    <tr>\n",
       "      <th>count</th>\n",
       "      <td>14.000000</td>\n",
       "      <td>14.000000</td>\n",
       "    </tr>\n",
       "    <tr>\n",
       "      <th>mean</th>\n",
       "      <td>0.203872</td>\n",
       "      <td>0.150810</td>\n",
       "    </tr>\n",
       "    <tr>\n",
       "      <th>std</th>\n",
       "      <td>0.030958</td>\n",
       "      <td>0.035051</td>\n",
       "    </tr>\n",
       "    <tr>\n",
       "      <th>min</th>\n",
       "      <td>0.160714</td>\n",
       "      <td>0.089130</td>\n",
       "    </tr>\n",
       "    <tr>\n",
       "      <th>25%</th>\n",
       "      <td>0.184589</td>\n",
       "      <td>0.128564</td>\n",
       "    </tr>\n",
       "    <tr>\n",
       "      <th>50%</th>\n",
       "      <td>0.196541</td>\n",
       "      <td>0.158867</td>\n",
       "    </tr>\n",
       "    <tr>\n",
       "      <th>75%</th>\n",
       "      <td>0.220668</td>\n",
       "      <td>0.174803</td>\n",
       "    </tr>\n",
       "    <tr>\n",
       "      <th>max</th>\n",
       "      <td>0.263415</td>\n",
       "      <td>0.199475</td>\n",
       "    </tr>\n",
       "  </tbody>\n",
       "</table>\n",
       "</div>"
      ],
      "text/plain": [
       "          cardio    weights\n",
       "count  14.000000  14.000000\n",
       "mean    0.203872   0.150810\n",
       "std     0.030958   0.035051\n",
       "min     0.160714   0.089130\n",
       "25%     0.184589   0.128564\n",
       "50%     0.196541   0.158867\n",
       "75%     0.220668   0.174803\n",
       "max     0.263415   0.199475"
      ]
     },
     "execution_count": 102,
     "metadata": {},
     "output_type": "execute_result"
    }
   ],
   "source": [
    "pd.DataFrame(data=[cardio_s_deep.values, weights_s_deep.values], index=['cardio', 'weights']).T.describe()"
   ]
  },
  {
   "cell_type": "markdown",
   "metadata": {},
   "source": [
    "The mean deep-sleep ratio is 5% higher for the days with cardio workouts than those with weight-lifting. The standard deviations of the two groups are comperable.\n",
    "\n",
    "Let's see if the difference is statistically significant."
   ]
  },
  {
   "cell_type": "code",
   "execution_count": 103,
   "metadata": {},
   "outputs": [
    {
     "name": "stdout",
     "output_type": "stream",
     "text": [
      "t(14)=4.49, p=0.0006\n"
     ]
    }
   ],
   "source": [
    "t, p = ttest_rel(cardio_s_deep, weights_s_deep)\n",
    "print('t(14)={:.2f}, p={:.4f}'.format(t, p))"
   ]
  },
  {
   "cell_type": "code",
   "execution_count": 104,
   "metadata": {},
   "outputs": [],
   "source": [
    "def cohen_d(x, y):\n",
    "    nx = len(x)\n",
    "    ny = len(y)\n",
    "    dof = nx + ny - 2\n",
    "    return (mean(x) - mean(y)) / sqrt(\n",
    "        ((nx-1)*std(x, ddof=1) ** 2 + (ny-1)*std(y, ddof=1) ** 2) / dof\n",
    "    )"
   ]
  },
  {
   "cell_type": "code",
   "execution_count": 105,
   "metadata": {},
   "outputs": [
    {
     "data": {
      "text/plain": [
       "1.6046461510717354"
      ]
     },
     "execution_count": 105,
     "metadata": {},
     "output_type": "execute_result"
    }
   ],
   "source": [
    "cohen_d(cardio_s_deep, weights_s_deep)"
   ]
  },
  {
   "cell_type": "markdown",
   "metadata": {},
   "source": [
    "The difference observed between the two workouts seems to be statistically significant with a p<.001 and an impressive Cohen's d value of 1.62."
   ]
  },
  {
   "cell_type": "markdown",
   "metadata": {},
   "source": [
    "# Linear Model"
   ]
  },
  {
   "cell_type": "markdown",
   "metadata": {},
   "source": [
    "Let's dive deeper and see if we cean further tease apart the workout intensities and if we can derive a linear model predicting the ratio of deep sleep following a given workout session."
   ]
  },
  {
   "cell_type": "markdown",
   "metadata": {},
   "source": [
    "## Exploration"
   ]
  },
  {
   "cell_type": "code",
   "execution_count": 106,
   "metadata": {},
   "outputs": [],
   "source": [
    "interesting_cats = data.loc[:, [\n",
    "    'Calories Burned', 'Steps', 'Floors', 'Minutes Sedentary', 'Minutes Lightly Active',\n",
    "    'Minutes Fairly Active', 'Minutes Very Active', 'Activity Calories', 'Minutes Asleep', \n",
    "    'light_sleep_ratio', 'deep_sleep_ratio', 'rem_sleep_ratio'\n",
    "]]"
   ]
  },
  {
   "cell_type": "code",
   "execution_count": 107,
   "metadata": {},
   "outputs": [
    {
     "data": {
      "text/html": [
       "<div>\n",
       "<style scoped>\n",
       "    .dataframe tbody tr th:only-of-type {\n",
       "        vertical-align: middle;\n",
       "    }\n",
       "\n",
       "    .dataframe tbody tr th {\n",
       "        vertical-align: top;\n",
       "    }\n",
       "\n",
       "    .dataframe thead th {\n",
       "        text-align: right;\n",
       "    }\n",
       "</style>\n",
       "<table border=\"1\" class=\"dataframe\">\n",
       "  <thead>\n",
       "    <tr style=\"text-align: right;\">\n",
       "      <th></th>\n",
       "      <th>Calories Burned</th>\n",
       "      <th>Steps</th>\n",
       "      <th>Floors</th>\n",
       "      <th>Minutes Sedentary</th>\n",
       "      <th>Minutes Lightly Active</th>\n",
       "      <th>Minutes Fairly Active</th>\n",
       "      <th>Minutes Very Active</th>\n",
       "      <th>Activity Calories</th>\n",
       "      <th>Minutes Asleep</th>\n",
       "      <th>light_sleep_ratio</th>\n",
       "      <th>deep_sleep_ratio</th>\n",
       "      <th>rem_sleep_ratio</th>\n",
       "    </tr>\n",
       "  </thead>\n",
       "  <tbody>\n",
       "    <tr>\n",
       "      <th>count</th>\n",
       "      <td>29.000000</td>\n",
       "      <td>29.000000</td>\n",
       "      <td>29.000000</td>\n",
       "      <td>29.000000</td>\n",
       "      <td>29.000000</td>\n",
       "      <td>29.000000</td>\n",
       "      <td>29.000000</td>\n",
       "      <td>29.000000</td>\n",
       "      <td>29.000000</td>\n",
       "      <td>29.000000</td>\n",
       "      <td>29.000000</td>\n",
       "      <td>29.000000</td>\n",
       "    </tr>\n",
       "    <tr>\n",
       "      <th>mean</th>\n",
       "      <td>2313.379310</td>\n",
       "      <td>6129.517241</td>\n",
       "      <td>19.241379</td>\n",
       "      <td>840.137931</td>\n",
       "      <td>166.655172</td>\n",
       "      <td>12.000000</td>\n",
       "      <td>19.103448</td>\n",
       "      <td>824.655172</td>\n",
       "      <td>401.965517</td>\n",
       "      <td>0.546756</td>\n",
       "      <td>0.176692</td>\n",
       "      <td>0.276552</td>\n",
       "    </tr>\n",
       "    <tr>\n",
       "      <th>std</th>\n",
       "      <td>247.393182</td>\n",
       "      <td>3320.188147</td>\n",
       "      <td>13.852940</td>\n",
       "      <td>196.809503</td>\n",
       "      <td>44.815715</td>\n",
       "      <td>10.973995</td>\n",
       "      <td>19.282384</td>\n",
       "      <td>305.879911</td>\n",
       "      <td>42.863140</td>\n",
       "      <td>0.066587</td>\n",
       "      <td>0.041611</td>\n",
       "      <td>0.038926</td>\n",
       "    </tr>\n",
       "    <tr>\n",
       "      <th>min</th>\n",
       "      <td>1793.000000</td>\n",
       "      <td>1315.000000</td>\n",
       "      <td>7.000000</td>\n",
       "      <td>358.000000</td>\n",
       "      <td>64.000000</td>\n",
       "      <td>0.000000</td>\n",
       "      <td>0.000000</td>\n",
       "      <td>221.000000</td>\n",
       "      <td>342.000000</td>\n",
       "      <td>0.371345</td>\n",
       "      <td>0.089130</td>\n",
       "      <td>0.210227</td>\n",
       "    </tr>\n",
       "    <tr>\n",
       "      <th>25%</th>\n",
       "      <td>2152.000000</td>\n",
       "      <td>3794.000000</td>\n",
       "      <td>12.000000</td>\n",
       "      <td>735.000000</td>\n",
       "      <td>134.000000</td>\n",
       "      <td>0.000000</td>\n",
       "      <td>0.000000</td>\n",
       "      <td>612.000000</td>\n",
       "      <td>381.000000</td>\n",
       "      <td>0.511299</td>\n",
       "      <td>0.158537</td>\n",
       "      <td>0.250000</td>\n",
       "    </tr>\n",
       "    <tr>\n",
       "      <th>50%</th>\n",
       "      <td>2304.000000</td>\n",
       "      <td>5700.000000</td>\n",
       "      <td>14.000000</td>\n",
       "      <td>807.000000</td>\n",
       "      <td>162.000000</td>\n",
       "      <td>12.000000</td>\n",
       "      <td>15.000000</td>\n",
       "      <td>832.000000</td>\n",
       "      <td>410.000000</td>\n",
       "      <td>0.549618</td>\n",
       "      <td>0.180180</td>\n",
       "      <td>0.277500</td>\n",
       "    </tr>\n",
       "    <tr>\n",
       "      <th>75%</th>\n",
       "      <td>2495.000000</td>\n",
       "      <td>8493.000000</td>\n",
       "      <td>17.000000</td>\n",
       "      <td>883.000000</td>\n",
       "      <td>199.000000</td>\n",
       "      <td>19.000000</td>\n",
       "      <td>32.000000</td>\n",
       "      <td>1041.000000</td>\n",
       "      <td>416.000000</td>\n",
       "      <td>0.583924</td>\n",
       "      <td>0.199475</td>\n",
       "      <td>0.302663</td>\n",
       "    </tr>\n",
       "    <tr>\n",
       "      <th>max</th>\n",
       "      <td>2726.000000</td>\n",
       "      <td>13146.000000</td>\n",
       "      <td>64.000000</td>\n",
       "      <td>1376.000000</td>\n",
       "      <td>252.000000</td>\n",
       "      <td>40.000000</td>\n",
       "      <td>63.000000</td>\n",
       "      <td>1302.000000</td>\n",
       "      <td>555.000000</td>\n",
       "      <td>0.657289</td>\n",
       "      <td>0.263415</td>\n",
       "      <td>0.371345</td>\n",
       "    </tr>\n",
       "  </tbody>\n",
       "</table>\n",
       "</div>"
      ],
      "text/plain": [
       "       Calories Burned         Steps     Floors  Minutes Sedentary  \\\n",
       "count        29.000000     29.000000  29.000000          29.000000   \n",
       "mean       2313.379310   6129.517241  19.241379         840.137931   \n",
       "std         247.393182   3320.188147  13.852940         196.809503   \n",
       "min        1793.000000   1315.000000   7.000000         358.000000   \n",
       "25%        2152.000000   3794.000000  12.000000         735.000000   \n",
       "50%        2304.000000   5700.000000  14.000000         807.000000   \n",
       "75%        2495.000000   8493.000000  17.000000         883.000000   \n",
       "max        2726.000000  13146.000000  64.000000        1376.000000   \n",
       "\n",
       "       Minutes Lightly Active  Minutes Fairly Active  Minutes Very Active  \\\n",
       "count               29.000000              29.000000            29.000000   \n",
       "mean               166.655172              12.000000            19.103448   \n",
       "std                 44.815715              10.973995            19.282384   \n",
       "min                 64.000000               0.000000             0.000000   \n",
       "25%                134.000000               0.000000             0.000000   \n",
       "50%                162.000000              12.000000            15.000000   \n",
       "75%                199.000000              19.000000            32.000000   \n",
       "max                252.000000              40.000000            63.000000   \n",
       "\n",
       "       Activity Calories  Minutes Asleep  light_sleep_ratio  deep_sleep_ratio  \\\n",
       "count          29.000000       29.000000          29.000000         29.000000   \n",
       "mean          824.655172      401.965517           0.546756          0.176692   \n",
       "std           305.879911       42.863140           0.066587          0.041611   \n",
       "min           221.000000      342.000000           0.371345          0.089130   \n",
       "25%           612.000000      381.000000           0.511299          0.158537   \n",
       "50%           832.000000      410.000000           0.549618          0.180180   \n",
       "75%          1041.000000      416.000000           0.583924          0.199475   \n",
       "max          1302.000000      555.000000           0.657289          0.263415   \n",
       "\n",
       "       rem_sleep_ratio  \n",
       "count        29.000000  \n",
       "mean          0.276552  \n",
       "std           0.038926  \n",
       "min           0.210227  \n",
       "25%           0.250000  \n",
       "50%           0.277500  \n",
       "75%           0.302663  \n",
       "max           0.371345  "
      ]
     },
     "execution_count": 107,
     "metadata": {},
     "output_type": "execute_result"
    }
   ],
   "source": [
    "interesting_cats.describe()"
   ]
  },
  {
   "cell_type": "markdown",
   "metadata": {},
   "source": [
    "I typically spend 17.67% of my sleep in the deep-sleep stage, with an average deviation from that mean of 4.16%."
   ]
  },
  {
   "cell_type": "code",
   "execution_count": 108,
   "metadata": {},
   "outputs": [
    {
     "data": {
      "text/html": [
       "<div>\n",
       "<style scoped>\n",
       "    .dataframe tbody tr th:only-of-type {\n",
       "        vertical-align: middle;\n",
       "    }\n",
       "\n",
       "    .dataframe tbody tr th {\n",
       "        vertical-align: top;\n",
       "    }\n",
       "\n",
       "    .dataframe thead th {\n",
       "        text-align: right;\n",
       "    }\n",
       "</style>\n",
       "<table border=\"1\" class=\"dataframe\">\n",
       "  <thead>\n",
       "    <tr style=\"text-align: right;\">\n",
       "      <th></th>\n",
       "      <th>Calories Burned</th>\n",
       "      <th>Steps</th>\n",
       "      <th>Floors</th>\n",
       "      <th>Minutes Sedentary</th>\n",
       "      <th>Minutes Lightly Active</th>\n",
       "      <th>Minutes Fairly Active</th>\n",
       "      <th>Minutes Very Active</th>\n",
       "      <th>Activity Calories</th>\n",
       "      <th>Minutes Asleep</th>\n",
       "      <th>light_sleep_ratio</th>\n",
       "      <th>deep_sleep_ratio</th>\n",
       "      <th>rem_sleep_ratio</th>\n",
       "    </tr>\n",
       "  </thead>\n",
       "  <tbody>\n",
       "    <tr>\n",
       "      <th>Calories Burned</th>\n",
       "      <td>1.000000</td>\n",
       "      <td>0.894639</td>\n",
       "      <td>NaN</td>\n",
       "      <td>NaN</td>\n",
       "      <td>0.724174</td>\n",
       "      <td>0.725167</td>\n",
       "      <td>0.711023</td>\n",
       "      <td>0.988429</td>\n",
       "      <td>NaN</td>\n",
       "      <td>NaN</td>\n",
       "      <td>NaN</td>\n",
       "      <td>NaN</td>\n",
       "    </tr>\n",
       "    <tr>\n",
       "      <th>Steps</th>\n",
       "      <td>0.894639</td>\n",
       "      <td>1.000000</td>\n",
       "      <td>0.730826</td>\n",
       "      <td>NaN</td>\n",
       "      <td>NaN</td>\n",
       "      <td>NaN</td>\n",
       "      <td>0.798883</td>\n",
       "      <td>0.903977</td>\n",
       "      <td>NaN</td>\n",
       "      <td>NaN</td>\n",
       "      <td>NaN</td>\n",
       "      <td>NaN</td>\n",
       "    </tr>\n",
       "    <tr>\n",
       "      <th>Floors</th>\n",
       "      <td>NaN</td>\n",
       "      <td>0.730826</td>\n",
       "      <td>1.000000</td>\n",
       "      <td>NaN</td>\n",
       "      <td>NaN</td>\n",
       "      <td>NaN</td>\n",
       "      <td>NaN</td>\n",
       "      <td>NaN</td>\n",
       "      <td>NaN</td>\n",
       "      <td>NaN</td>\n",
       "      <td>NaN</td>\n",
       "      <td>NaN</td>\n",
       "    </tr>\n",
       "    <tr>\n",
       "      <th>Minutes Sedentary</th>\n",
       "      <td>NaN</td>\n",
       "      <td>NaN</td>\n",
       "      <td>NaN</td>\n",
       "      <td>1.0</td>\n",
       "      <td>NaN</td>\n",
       "      <td>NaN</td>\n",
       "      <td>NaN</td>\n",
       "      <td>NaN</td>\n",
       "      <td>NaN</td>\n",
       "      <td>NaN</td>\n",
       "      <td>NaN</td>\n",
       "      <td>NaN</td>\n",
       "    </tr>\n",
       "    <tr>\n",
       "      <th>Minutes Lightly Active</th>\n",
       "      <td>0.724174</td>\n",
       "      <td>NaN</td>\n",
       "      <td>NaN</td>\n",
       "      <td>NaN</td>\n",
       "      <td>1.000000</td>\n",
       "      <td>NaN</td>\n",
       "      <td>NaN</td>\n",
       "      <td>0.769719</td>\n",
       "      <td>NaN</td>\n",
       "      <td>NaN</td>\n",
       "      <td>NaN</td>\n",
       "      <td>NaN</td>\n",
       "    </tr>\n",
       "    <tr>\n",
       "      <th>Minutes Fairly Active</th>\n",
       "      <td>0.725167</td>\n",
       "      <td>NaN</td>\n",
       "      <td>NaN</td>\n",
       "      <td>NaN</td>\n",
       "      <td>NaN</td>\n",
       "      <td>1.000000</td>\n",
       "      <td>NaN</td>\n",
       "      <td>0.741667</td>\n",
       "      <td>NaN</td>\n",
       "      <td>NaN</td>\n",
       "      <td>NaN</td>\n",
       "      <td>NaN</td>\n",
       "    </tr>\n",
       "    <tr>\n",
       "      <th>Minutes Very Active</th>\n",
       "      <td>0.711023</td>\n",
       "      <td>0.798883</td>\n",
       "      <td>NaN</td>\n",
       "      <td>NaN</td>\n",
       "      <td>NaN</td>\n",
       "      <td>NaN</td>\n",
       "      <td>1.000000</td>\n",
       "      <td>NaN</td>\n",
       "      <td>NaN</td>\n",
       "      <td>NaN</td>\n",
       "      <td>NaN</td>\n",
       "      <td>NaN</td>\n",
       "    </tr>\n",
       "    <tr>\n",
       "      <th>Activity Calories</th>\n",
       "      <td>0.988429</td>\n",
       "      <td>0.903977</td>\n",
       "      <td>NaN</td>\n",
       "      <td>NaN</td>\n",
       "      <td>0.769719</td>\n",
       "      <td>0.741667</td>\n",
       "      <td>NaN</td>\n",
       "      <td>1.000000</td>\n",
       "      <td>NaN</td>\n",
       "      <td>NaN</td>\n",
       "      <td>NaN</td>\n",
       "      <td>NaN</td>\n",
       "    </tr>\n",
       "    <tr>\n",
       "      <th>Minutes Asleep</th>\n",
       "      <td>NaN</td>\n",
       "      <td>NaN</td>\n",
       "      <td>NaN</td>\n",
       "      <td>NaN</td>\n",
       "      <td>NaN</td>\n",
       "      <td>NaN</td>\n",
       "      <td>NaN</td>\n",
       "      <td>NaN</td>\n",
       "      <td>1.0</td>\n",
       "      <td>NaN</td>\n",
       "      <td>NaN</td>\n",
       "      <td>NaN</td>\n",
       "    </tr>\n",
       "    <tr>\n",
       "      <th>light_sleep_ratio</th>\n",
       "      <td>NaN</td>\n",
       "      <td>NaN</td>\n",
       "      <td>NaN</td>\n",
       "      <td>NaN</td>\n",
       "      <td>NaN</td>\n",
       "      <td>NaN</td>\n",
       "      <td>NaN</td>\n",
       "      <td>NaN</td>\n",
       "      <td>NaN</td>\n",
       "      <td>1.0</td>\n",
       "      <td>NaN</td>\n",
       "      <td>NaN</td>\n",
       "    </tr>\n",
       "    <tr>\n",
       "      <th>deep_sleep_ratio</th>\n",
       "      <td>NaN</td>\n",
       "      <td>NaN</td>\n",
       "      <td>NaN</td>\n",
       "      <td>NaN</td>\n",
       "      <td>NaN</td>\n",
       "      <td>NaN</td>\n",
       "      <td>NaN</td>\n",
       "      <td>NaN</td>\n",
       "      <td>NaN</td>\n",
       "      <td>NaN</td>\n",
       "      <td>1.0</td>\n",
       "      <td>NaN</td>\n",
       "    </tr>\n",
       "    <tr>\n",
       "      <th>rem_sleep_ratio</th>\n",
       "      <td>NaN</td>\n",
       "      <td>NaN</td>\n",
       "      <td>NaN</td>\n",
       "      <td>NaN</td>\n",
       "      <td>NaN</td>\n",
       "      <td>NaN</td>\n",
       "      <td>NaN</td>\n",
       "      <td>NaN</td>\n",
       "      <td>NaN</td>\n",
       "      <td>NaN</td>\n",
       "      <td>NaN</td>\n",
       "      <td>1.0</td>\n",
       "    </tr>\n",
       "  </tbody>\n",
       "</table>\n",
       "</div>"
      ],
      "text/plain": [
       "                        Calories Burned     Steps    Floors  \\\n",
       "Calories Burned                1.000000  0.894639       NaN   \n",
       "Steps                          0.894639  1.000000  0.730826   \n",
       "Floors                              NaN  0.730826  1.000000   \n",
       "Minutes Sedentary                   NaN       NaN       NaN   \n",
       "Minutes Lightly Active         0.724174       NaN       NaN   \n",
       "Minutes Fairly Active          0.725167       NaN       NaN   \n",
       "Minutes Very Active            0.711023  0.798883       NaN   \n",
       "Activity Calories              0.988429  0.903977       NaN   \n",
       "Minutes Asleep                      NaN       NaN       NaN   \n",
       "light_sleep_ratio                   NaN       NaN       NaN   \n",
       "deep_sleep_ratio                    NaN       NaN       NaN   \n",
       "rem_sleep_ratio                     NaN       NaN       NaN   \n",
       "\n",
       "                        Minutes Sedentary  Minutes Lightly Active  \\\n",
       "Calories Burned                       NaN                0.724174   \n",
       "Steps                                 NaN                     NaN   \n",
       "Floors                                NaN                     NaN   \n",
       "Minutes Sedentary                     1.0                     NaN   \n",
       "Minutes Lightly Active                NaN                1.000000   \n",
       "Minutes Fairly Active                 NaN                     NaN   \n",
       "Minutes Very Active                   NaN                     NaN   \n",
       "Activity Calories                     NaN                0.769719   \n",
       "Minutes Asleep                        NaN                     NaN   \n",
       "light_sleep_ratio                     NaN                     NaN   \n",
       "deep_sleep_ratio                      NaN                     NaN   \n",
       "rem_sleep_ratio                       NaN                     NaN   \n",
       "\n",
       "                        Minutes Fairly Active  Minutes Very Active  \\\n",
       "Calories Burned                      0.725167             0.711023   \n",
       "Steps                                     NaN             0.798883   \n",
       "Floors                                    NaN                  NaN   \n",
       "Minutes Sedentary                         NaN                  NaN   \n",
       "Minutes Lightly Active                    NaN                  NaN   \n",
       "Minutes Fairly Active                1.000000                  NaN   \n",
       "Minutes Very Active                       NaN             1.000000   \n",
       "Activity Calories                    0.741667                  NaN   \n",
       "Minutes Asleep                            NaN                  NaN   \n",
       "light_sleep_ratio                         NaN                  NaN   \n",
       "deep_sleep_ratio                          NaN                  NaN   \n",
       "rem_sleep_ratio                           NaN                  NaN   \n",
       "\n",
       "                        Activity Calories  Minutes Asleep  light_sleep_ratio  \\\n",
       "Calories Burned                  0.988429             NaN                NaN   \n",
       "Steps                            0.903977             NaN                NaN   \n",
       "Floors                                NaN             NaN                NaN   \n",
       "Minutes Sedentary                     NaN             NaN                NaN   \n",
       "Minutes Lightly Active           0.769719             NaN                NaN   \n",
       "Minutes Fairly Active            0.741667             NaN                NaN   \n",
       "Minutes Very Active                   NaN             NaN                NaN   \n",
       "Activity Calories                1.000000             NaN                NaN   \n",
       "Minutes Asleep                        NaN             1.0                NaN   \n",
       "light_sleep_ratio                     NaN             NaN                1.0   \n",
       "deep_sleep_ratio                      NaN             NaN                NaN   \n",
       "rem_sleep_ratio                       NaN             NaN                NaN   \n",
       "\n",
       "                        deep_sleep_ratio  rem_sleep_ratio  \n",
       "Calories Burned                      NaN              NaN  \n",
       "Steps                                NaN              NaN  \n",
       "Floors                               NaN              NaN  \n",
       "Minutes Sedentary                    NaN              NaN  \n",
       "Minutes Lightly Active               NaN              NaN  \n",
       "Minutes Fairly Active                NaN              NaN  \n",
       "Minutes Very Active                  NaN              NaN  \n",
       "Activity Calories                    NaN              NaN  \n",
       "Minutes Asleep                       NaN              NaN  \n",
       "light_sleep_ratio                    NaN              NaN  \n",
       "deep_sleep_ratio                     1.0              NaN  \n",
       "rem_sleep_ratio                      NaN              1.0  "
      ]
     },
     "execution_count": 108,
     "metadata": {},
     "output_type": "execute_result"
    }
   ],
   "source": [
    "interesting_cats.corr().where(interesting_cats.corr() > .7)"
   ]
  },
  {
   "cell_type": "markdown",
   "metadata": {},
   "source": [
    "The deep sleep ratio doesn't seem to be correlated with any of the activity-level measures."
   ]
  },
  {
   "cell_type": "markdown",
   "metadata": {},
   "source": [
    "### Graphical Exploration"
   ]
  },
  {
   "cell_type": "markdown",
   "metadata": {},
   "source": [
    "I will explore more than the deep sleep variable out of curiocity and to inform potential future studies."
   ]
  },
  {
   "cell_type": "markdown",
   "metadata": {},
   "source": [
    "#### Activity Measures"
   ]
  },
  {
   "cell_type": "markdown",
   "metadata": {},
   "source": [
    "Let's check how the graphs look for the activity measures."
   ]
  },
  {
   "cell_type": "code",
   "execution_count": 109,
   "metadata": {},
   "outputs": [
    {
     "data": {
      "text/plain": [
       "<matplotlib.axes._subplots.AxesSubplot at 0x1c24521828>"
      ]
     },
     "execution_count": 109,
     "metadata": {},
     "output_type": "execute_result"
    },
    {
     "data": {
      "image/png": "[encoded data removed]",
      "text/plain": [
       "<Figure size 432x288 with 1 Axes>"
      ]
     },
     "metadata": {
      "needs_background": "light"
     },
     "output_type": "display_data"
    }
   ],
   "source": [
    "data.loc[:, 'Minutes Very Active'].plot()"
   ]
  },
  {
   "cell_type": "code",
   "execution_count": 110,
   "metadata": {},
   "outputs": [
    {
     "data": {
      "text/plain": [
       "<matplotlib.axes._subplots.AxesSubplot at 0x1c23f5d860>"
      ]
     },
     "execution_count": 110,
     "metadata": {},
     "output_type": "execute_result"
    },
    {
     "data": {
      "image/png": "[encoded data removed]",
      "text/plain": [
       "<Figure size 432x288 with 1 Axes>"
      ]
     },
     "metadata": {
      "needs_background": "light"
     },
     "output_type": "display_data"
    }
   ],
   "source": [
    "data.loc[:, 'Minutes Fairly Active'].plot()"
   ]
  },
  {
   "cell_type": "markdown",
   "metadata": {},
   "source": [
    "There seems to be a decrease in overall Minutes Very Active and an increase in the Minutes Fairly Active spot-on at the mark of March 30th, which is when I switched from cardio-based cutting workouts to a weights-based bulking routine. There might be something there."
   ]
  },
  {
   "cell_type": "markdown",
   "metadata": {},
   "source": [
    "#### Sleep Measures"
   ]
  },
  {
   "cell_type": "code",
   "execution_count": 111,
   "metadata": {},
   "outputs": [
    {
     "data": {
      "text/plain": [
       "<matplotlib.axes._subplots.AxesSubplot at 0x1c2477c0f0>"
      ]
     },
     "execution_count": 111,
     "metadata": {},
     "output_type": "execute_result"
    },
    {
     "data": {
      "image/png": "[encoded data removed]",
      "text/plain": [
       "<Figure size 432x288 with 1 Axes>"
      ]
     },
     "metadata": {
      "needs_background": "light"
     },
     "output_type": "display_data"
    }
   ],
   "source": [
    "data.loc[:, 'deep_sleep_ratio'].plot()"
   ]
  },
  {
   "cell_type": "code",
   "execution_count": 112,
   "metadata": {},
   "outputs": [
    {
     "data": {
      "text/plain": [
       "<matplotlib.axes._subplots.AxesSubplot at 0x1c2480ccf8>"
      ]
     },
     "execution_count": 112,
     "metadata": {},
     "output_type": "execute_result"
    },
    {
     "data": {
      "image/png": "[encoded data removed]",
      "text/plain": [
       "<Figure size 432x288 with 1 Axes>"
      ]
     },
     "metadata": {
      "needs_background": "light"
     },
     "output_type": "display_data"
    }
   ],
   "source": [
    "data.loc[:, 'rem_sleep_ratio'].plot()"
   ]
  },
  {
   "cell_type": "code",
   "execution_count": 113,
   "metadata": {},
   "outputs": [
    {
     "data": {
      "text/plain": [
       "<matplotlib.axes._subplots.AxesSubplot at 0x1c249a57f0>"
      ]
     },
     "execution_count": 113,
     "metadata": {},
     "output_type": "execute_result"
    },
    {
     "data": {
      "image/png": "[encoded data removed]",
      "text/plain": [
       "<Figure size 432x288 with 1 Axes>"
      ]
     },
     "metadata": {
      "needs_background": "light"
     },
     "output_type": "display_data"
    }
   ],
   "source": [
    "data.loc[:, 'light_sleep_ratio'].plot()"
   ]
  },
  {
   "cell_type": "markdown",
   "metadata": {},
   "source": [
    "There is a slight decrease in the ratio of deep sleep that matches well with the change in workout routine."
   ]
  },
  {
   "cell_type": "markdown",
   "metadata": {},
   "source": [
    "## Analysis"
   ]
  },
  {
   "cell_type": "markdown",
   "metadata": {},
   "source": [
    "Let's see if we can fit a model to the the activity measures and deep sleep."
   ]
  },
  {
   "cell_type": "code",
   "execution_count": 114,
   "metadata": {},
   "outputs": [
    {
     "data": {
      "text/plain": [
       "Index(['Calories Burned', 'Steps', 'Distance', 'Floors', 'Minutes Sedentary',\n",
       "       'Minutes Lightly Active', 'Minutes Fairly Active',\n",
       "       'Minutes Very Active', 'Activity Calories', 'Start Time', 'End Time',\n",
       "       'Minutes Asleep', 'Minutes Awake', 'Number of Awakenings',\n",
       "       'Time in Bed', 'Minutes REM Sleep', 'Minutes Light Sleep',\n",
       "       'Minutes Deep Sleep', 'light_sleep_ratio', 'deep_sleep_ratio',\n",
       "       'rem_sleep_ratio'],\n",
       "      dtype='object')"
      ]
     },
     "execution_count": 114,
     "metadata": {},
     "output_type": "execute_result"
    }
   ],
   "source": [
    "data.columns"
   ]
  },
  {
   "cell_type": "markdown",
   "metadata": {},
   "source": [
    "I am interested in the minutes of activity. Excluding minutes of inactivity will allow me to not scale the inputs as the minutes of activity measures are on the same scale, allowing me to get a good idea of the contribution of one minute of a given level activity on the time spent in deep sleep."
   ]
  },
  {
   "cell_type": "code",
   "execution_count": 115,
   "metadata": {},
   "outputs": [],
   "source": [
    "X = data.loc[:, [\n",
    "    'Minutes Lightly Active', 'Minutes Fairly Active', 'Minutes Very Active'\n",
    "]]\n",
    "y = data.loc[:, 'deep_sleep_ratio']\n",
    "X_const = sm.add_constant(X)\n",
    "model = sm.OLS(y, X_const)\n",
    "res = model.fit()"
   ]
  },
  {
   "cell_type": "code",
   "execution_count": 116,
   "metadata": {},
   "outputs": [
    {
     "data": {
      "text/html": [
       "<table class=\"simpletable\">\n",
       "<caption>OLS Regression Results</caption>\n",
       "<tr>\n",
       "  <th>Dep. Variable:</th>    <td>deep_sleep_ratio</td> <th>  R-squared:         </th> <td>   0.397</td>\n",
       "</tr>\n",
       "<tr>\n",
       "  <th>Model:</th>                   <td>OLS</td>       <th>  Adj. R-squared:    </th> <td>   0.325</td>\n",
       "</tr>\n",
       "<tr>\n",
       "  <th>Method:</th>             <td>Least Squares</td>  <th>  F-statistic:       </th> <td>   5.486</td>\n",
       "</tr>\n",
       "<tr>\n",
       "  <th>Date:</th>             <td>Thu, 02 May 2019</td> <th>  Prob (F-statistic):</th>  <td>0.00490</td>\n",
       "</tr>\n",
       "<tr>\n",
       "  <th>Time:</th>                 <td>14:53:21</td>     <th>  Log-Likelihood:    </th> <td>  58.896</td>\n",
       "</tr>\n",
       "<tr>\n",
       "  <th>No. Observations:</th>      <td>    29</td>      <th>  AIC:               </th> <td>  -109.8</td>\n",
       "</tr>\n",
       "<tr>\n",
       "  <th>Df Residuals:</th>          <td>    25</td>      <th>  BIC:               </th> <td>  -104.3</td>\n",
       "</tr>\n",
       "<tr>\n",
       "  <th>Df Model:</th>              <td>     3</td>      <th>                     </th>     <td> </td>   \n",
       "</tr>\n",
       "<tr>\n",
       "  <th>Covariance Type:</th>      <td>nonrobust</td>    <th>                     </th>     <td> </td>   \n",
       "</tr>\n",
       "</table>\n",
       "<table class=\"simpletable\">\n",
       "<tr>\n",
       "             <td></td>               <th>coef</th>     <th>std err</th>      <th>t</th>      <th>P>|t|</th>  <th>[0.025</th>    <th>0.975]</th>  \n",
       "</tr>\n",
       "<tr>\n",
       "  <th>const</th>                  <td>    0.2028</td> <td>    0.027</td> <td>    7.576</td> <td> 0.000</td> <td>    0.148</td> <td>    0.258</td>\n",
       "</tr>\n",
       "<tr>\n",
       "  <th>Minutes Lightly Active</th> <td>   -0.0001</td> <td>    0.000</td> <td>   -0.582</td> <td> 0.566</td> <td>   -0.000</td> <td>    0.000</td>\n",
       "</tr>\n",
       "<tr>\n",
       "  <th>Minutes Fairly Active</th>  <td>   -0.0021</td> <td>    0.001</td> <td>   -2.798</td> <td> 0.010</td> <td>   -0.004</td> <td>   -0.001</td>\n",
       "</tr>\n",
       "<tr>\n",
       "  <th>Minutes Very Active</th>    <td>    0.0008</td> <td>    0.000</td> <td>    2.396</td> <td> 0.024</td> <td>    0.000</td> <td>    0.002</td>\n",
       "</tr>\n",
       "</table>\n",
       "<table class=\"simpletable\">\n",
       "<tr>\n",
       "  <th>Omnibus:</th>       <td> 0.480</td> <th>  Durbin-Watson:     </th> <td>   1.792</td>\n",
       "</tr>\n",
       "<tr>\n",
       "  <th>Prob(Omnibus):</th> <td> 0.787</td> <th>  Jarque-Bera (JB):  </th> <td>   0.043</td>\n",
       "</tr>\n",
       "<tr>\n",
       "  <th>Skew:</th>          <td>-0.077</td> <th>  Prob(JB):          </th> <td>   0.979</td>\n",
       "</tr>\n",
       "<tr>\n",
       "  <th>Kurtosis:</th>      <td> 3.110</td> <th>  Cond. No.          </th> <td>    733.</td>\n",
       "</tr>\n",
       "</table><br/><br/>Warnings:<br/>[1] Standard Errors assume that the covariance matrix of the errors is correctly specified."
      ],
      "text/plain": [
       "<class 'statsmodels.iolib.summary.Summary'>\n",
       "\"\"\"\n",
       "                            OLS Regression Results                            \n",
       "==============================================================================\n",
       "Dep. Variable:       deep_sleep_ratio   R-squared:                       0.397\n",
       "Model:                            OLS   Adj. R-squared:                  0.325\n",
       "Method:                 Least Squares   F-statistic:                     5.486\n",
       "Date:                Thu, 02 May 2019   Prob (F-statistic):            0.00490\n",
       "Time:                        14:53:21   Log-Likelihood:                 58.896\n",
       "No. Observations:                  29   AIC:                            -109.8\n",
       "Df Residuals:                      25   BIC:                            -104.3\n",
       "Df Model:                           3                                         \n",
       "Covariance Type:            nonrobust                                         \n",
       "==========================================================================================\n",
       "                             coef    std err          t      P>|t|      [0.025      0.975]\n",
       "------------------------------------------------------------------------------------------\n",
       "const                      0.2028      0.027      7.576      0.000       0.148       0.258\n",
       "Minutes Lightly Active    -0.0001      0.000     -0.582      0.566      -0.000       0.000\n",
       "Minutes Fairly Active     -0.0021      0.001     -2.798      0.010      -0.004      -0.001\n",
       "Minutes Very Active        0.0008      0.000      2.396      0.024       0.000       0.002\n",
       "==============================================================================\n",
       "Omnibus:                        0.480   Durbin-Watson:                   1.792\n",
       "Prob(Omnibus):                  0.787   Jarque-Bera (JB):                0.043\n",
       "Skew:                          -0.077   Prob(JB):                        0.979\n",
       "Kurtosis:                       3.110   Cond. No.                         733.\n",
       "==============================================================================\n",
       "\n",
       "Warnings:\n",
       "[1] Standard Errors assume that the covariance matrix of the errors is correctly specified.\n",
       "\"\"\""
      ]
     },
     "execution_count": 116,
     "metadata": {},
     "output_type": "execute_result"
    }
   ],
   "source": [
    "res.summary()"
   ]
  },
  {
   "cell_type": "markdown",
   "metadata": {},
   "source": [
    "An ANOVA on the model reveals that Minutes Fairly Active has a statistically significant negative effect on the ratio of deep sleep, reducing it by .2% for every minute of fair activity. On the other hand, high activity seems to increase the deep sleep ratio by .08% for every minute of high-intensity activity, and the effect is also statistically significant.\n",
    "\n",
    "Light activity levels have no significant effects on the deep sleep ratio."
   ]
  }
 ],
 "metadata": {
  "kernelspec": {
   "display_name": "Python 3",
   "language": "python",
   "name": "python3"
  },
  "language_info": {
   "codemirror_mode": {
    "name": "ipython",
    "version": 3
   },
   "file_extension": ".py",
   "mimetype": "text/x-python",
   "name": "python",
   "nbconvert_exporter": "python",
   "pygments_lexer": "ipython3",
   "version": "3.7.1"
  },
  "toc": {
   "nav_menu": {},
   "number_sections": true,
   "sideBar": true,
   "skip_h1_title": false,
   "toc_cell": false,
   "toc_position": {},
   "toc_section_display": "block",
   "toc_window_display": false
  }
 },
 "nbformat": 4,
 "nbformat_minor": 2
}
