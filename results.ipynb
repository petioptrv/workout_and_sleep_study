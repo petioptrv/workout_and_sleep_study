{
 "cells": [
  {
   "cell_type": "markdown",
   "metadata": {},
   "source": [
    "# Imports"
   ]
  },
  {
   "cell_type": "code",
   "execution_count": 121,
   "metadata": {
    "scrolled": true
   },
   "outputs": [],
   "source": [
    "import pandas as pd\n",
    "import matplotlib\n",
    "from matplotlib import pyplot as plt\n",
    "import statsmodels.api as sm"
   ]
  },
  {
   "cell_type": "code",
   "execution_count": 112,
   "metadata": {},
   "outputs": [],
   "source": [
    "%matplotlib inline"
   ]
  },
  {
   "cell_type": "markdown",
   "metadata": {},
   "source": [
    "# Data Import & Cleaning"
   ]
  },
  {
   "cell_type": "markdown",
   "metadata": {},
   "source": [
    "## Import"
   ]
  },
  {
   "cell_type": "code",
   "execution_count": 88,
   "metadata": {
    "scrolled": true
   },
   "outputs": [],
   "source": [
    "activities = pd.read_csv('./data/activities.csv')\n",
    "sleep = pd.read_csv('./data/sleep.csv')"
   ]
  },
  {
   "cell_type": "markdown",
   "metadata": {},
   "source": [
    "## Explore"
   ]
  },
  {
   "cell_type": "markdown",
   "metadata": {},
   "source": [
    "Check what the activities data looks like."
   ]
  },
  {
   "cell_type": "code",
   "execution_count": 89,
   "metadata": {
    "scrolled": false
   },
   "outputs": [
    {
     "data": {
      "text/html": [
       "<div>\n",
       "<style scoped>\n",
       "    .dataframe tbody tr th:only-of-type {\n",
       "        vertical-align: middle;\n",
       "    }\n",
       "\n",
       "    .dataframe tbody tr th {\n",
       "        vertical-align: top;\n",
       "    }\n",
       "\n",
       "    .dataframe thead th {\n",
       "        text-align: right;\n",
       "    }\n",
       "</style>\n",
       "<table border=\"1\" class=\"dataframe\">\n",
       "  <thead>\n",
       "    <tr style=\"text-align: right;\">\n",
       "      <th></th>\n",
       "      <th>Calories Burned</th>\n",
       "      <th>Steps</th>\n",
       "      <th>Distance</th>\n",
       "      <th>Floors</th>\n",
       "      <th>Minutes Sedentary</th>\n",
       "      <th>Minutes Lightly Active</th>\n",
       "      <th>Minutes Fairly Active</th>\n",
       "      <th>Minutes Very Active</th>\n",
       "      <th>Activity Calories</th>\n",
       "    </tr>\n",
       "    <tr>\n",
       "      <th>Date</th>\n",
       "      <th></th>\n",
       "      <th></th>\n",
       "      <th></th>\n",
       "      <th></th>\n",
       "      <th></th>\n",
       "      <th></th>\n",
       "      <th></th>\n",
       "      <th></th>\n",
       "      <th></th>\n",
       "    </tr>\n",
       "  </thead>\n",
       "  <tbody>\n",
       "    <tr>\n",
       "      <th>2019-03-01</th>\n",
       "      <td>2251</td>\n",
       "      <td>7796</td>\n",
       "      <td>5.62</td>\n",
       "      <td>32</td>\n",
       "      <td>987</td>\n",
       "      <td>1</td>\n",
       "      <td>0</td>\n",
       "      <td>0</td>\n",
       "      <td>2</td>\n",
       "    </tr>\n",
       "    <tr>\n",
       "      <th>2019-03-02</th>\n",
       "      <td>2345</td>\n",
       "      <td>5555</td>\n",
       "      <td>3.97</td>\n",
       "      <td>12</td>\n",
       "      <td>1440</td>\n",
       "      <td>0</td>\n",
       "      <td>0</td>\n",
       "      <td>0</td>\n",
       "      <td>0</td>\n",
       "    </tr>\n",
       "    <tr>\n",
       "      <th>2019-03-03</th>\n",
       "      <td>1766</td>\n",
       "      <td>162</td>\n",
       "      <td>0.12</td>\n",
       "      <td>1</td>\n",
       "      <td>1440</td>\n",
       "      <td>0</td>\n",
       "      <td>0</td>\n",
       "      <td>0</td>\n",
       "      <td>0</td>\n",
       "    </tr>\n",
       "    <tr>\n",
       "      <th>2019-03-04</th>\n",
       "      <td>1606</td>\n",
       "      <td>0</td>\n",
       "      <td>0.00</td>\n",
       "      <td>0</td>\n",
       "      <td>1440</td>\n",
       "      <td>0</td>\n",
       "      <td>0</td>\n",
       "      <td>0</td>\n",
       "      <td>0</td>\n",
       "    </tr>\n",
       "    <tr>\n",
       "      <th>2019-03-05</th>\n",
       "      <td>1605</td>\n",
       "      <td>0</td>\n",
       "      <td>0.00</td>\n",
       "      <td>0</td>\n",
       "      <td>1440</td>\n",
       "      <td>0</td>\n",
       "      <td>0</td>\n",
       "      <td>0</td>\n",
       "      <td>0</td>\n",
       "    </tr>\n",
       "  </tbody>\n",
       "</table>\n",
       "</div>"
      ],
      "text/plain": [
       "            Calories Burned  Steps  Distance  Floors  Minutes Sedentary  \\\n",
       "Date                                                                      \n",
       "2019-03-01             2251   7796      5.62      32                987   \n",
       "2019-03-02             2345   5555      3.97      12               1440   \n",
       "2019-03-03             1766    162      0.12       1               1440   \n",
       "2019-03-04             1606      0      0.00       0               1440   \n",
       "2019-03-05             1605      0      0.00       0               1440   \n",
       "\n",
       "            Minutes Lightly Active  Minutes Fairly Active  \\\n",
       "Date                                                        \n",
       "2019-03-01                       1                      0   \n",
       "2019-03-02                       0                      0   \n",
       "2019-03-03                       0                      0   \n",
       "2019-03-04                       0                      0   \n",
       "2019-03-05                       0                      0   \n",
       "\n",
       "            Minutes Very Active  Activity Calories  \n",
       "Date                                                \n",
       "2019-03-01                    0                  2  \n",
       "2019-03-02                    0                  0  \n",
       "2019-03-03                    0                  0  \n",
       "2019-03-04                    0                  0  \n",
       "2019-03-05                    0                  0  "
      ]
     },
     "execution_count": 89,
     "metadata": {},
     "output_type": "execute_result"
    }
   ],
   "source": [
    "activities.loc[:, 'Date'] = pd.to_datetime(activities['Date'])\n",
    "activities = activities.set_index('Date', drop=True)\n",
    "activities.head()"
   ]
  },
  {
   "cell_type": "code",
   "execution_count": 90,
   "metadata": {
    "scrolled": true
   },
   "outputs": [
    {
     "name": "stdout",
     "output_type": "stream",
     "text": [
      "<class 'pandas.core.frame.DataFrame'>\n",
      "DatetimeIndex: 54 entries, 2019-03-01 to 2019-04-23\n",
      "Data columns (total 9 columns):\n",
      "Calories Burned           54 non-null int64\n",
      "Steps                     54 non-null int64\n",
      "Distance                  54 non-null float64\n",
      "Floors                    54 non-null int64\n",
      "Minutes Sedentary         54 non-null int64\n",
      "Minutes Lightly Active    54 non-null int64\n",
      "Minutes Fairly Active     54 non-null int64\n",
      "Minutes Very Active       54 non-null int64\n",
      "Activity Calories         54 non-null int64\n",
      "dtypes: float64(1), int64(8)\n",
      "memory usage: 4.2 KB\n"
     ]
    }
   ],
   "source": [
    "activities.info()"
   ]
  },
  {
   "cell_type": "code",
   "execution_count": 91,
   "metadata": {
    "scrolled": true
   },
   "outputs": [
    {
     "data": {
      "text/html": [
       "<div>\n",
       "<style scoped>\n",
       "    .dataframe tbody tr th:only-of-type {\n",
       "        vertical-align: middle;\n",
       "    }\n",
       "\n",
       "    .dataframe tbody tr th {\n",
       "        vertical-align: top;\n",
       "    }\n",
       "\n",
       "    .dataframe thead th {\n",
       "        text-align: right;\n",
       "    }\n",
       "</style>\n",
       "<table border=\"1\" class=\"dataframe\">\n",
       "  <thead>\n",
       "    <tr style=\"text-align: right;\">\n",
       "      <th></th>\n",
       "      <th>Calories Burned</th>\n",
       "      <th>Steps</th>\n",
       "      <th>Distance</th>\n",
       "      <th>Floors</th>\n",
       "      <th>Minutes Sedentary</th>\n",
       "      <th>Minutes Lightly Active</th>\n",
       "      <th>Minutes Fairly Active</th>\n",
       "      <th>Minutes Very Active</th>\n",
       "      <th>Activity Calories</th>\n",
       "    </tr>\n",
       "  </thead>\n",
       "  <tbody>\n",
       "    <tr>\n",
       "      <th>count</th>\n",
       "      <td>54.000000</td>\n",
       "      <td>54.000000</td>\n",
       "      <td>54.000000</td>\n",
       "      <td>54.000000</td>\n",
       "      <td>54.000000</td>\n",
       "      <td>54.000000</td>\n",
       "      <td>54.000000</td>\n",
       "      <td>54.000000</td>\n",
       "      <td>54.000000</td>\n",
       "    </tr>\n",
       "    <tr>\n",
       "      <th>mean</th>\n",
       "      <td>2197.203704</td>\n",
       "      <td>5273.648148</td>\n",
       "      <td>3.888704</td>\n",
       "      <td>17.518519</td>\n",
       "      <td>937.277778</td>\n",
       "      <td>139.629630</td>\n",
       "      <td>10.296296</td>\n",
       "      <td>13.870370</td>\n",
       "      <td>671.166667</td>\n",
       "    </tr>\n",
       "    <tr>\n",
       "      <th>std</th>\n",
       "      <td>380.308632</td>\n",
       "      <td>3853.535437</td>\n",
       "      <td>2.861385</td>\n",
       "      <td>14.961259</td>\n",
       "      <td>292.447539</td>\n",
       "      <td>90.649709</td>\n",
       "      <td>12.962398</td>\n",
       "      <td>18.065965</td>\n",
       "      <td>461.170854</td>\n",
       "    </tr>\n",
       "    <tr>\n",
       "      <th>min</th>\n",
       "      <td>1210.000000</td>\n",
       "      <td>0.000000</td>\n",
       "      <td>0.000000</td>\n",
       "      <td>0.000000</td>\n",
       "      <td>358.000000</td>\n",
       "      <td>0.000000</td>\n",
       "      <td>0.000000</td>\n",
       "      <td>0.000000</td>\n",
       "      <td>0.000000</td>\n",
       "    </tr>\n",
       "    <tr>\n",
       "      <th>25%</th>\n",
       "      <td>1992.500000</td>\n",
       "      <td>2234.250000</td>\n",
       "      <td>1.600000</td>\n",
       "      <td>9.000000</td>\n",
       "      <td>728.250000</td>\n",
       "      <td>86.250000</td>\n",
       "      <td>0.000000</td>\n",
       "      <td>0.000000</td>\n",
       "      <td>277.250000</td>\n",
       "    </tr>\n",
       "    <tr>\n",
       "      <th>50%</th>\n",
       "      <td>2259.500000</td>\n",
       "      <td>5117.500000</td>\n",
       "      <td>3.835000</td>\n",
       "      <td>13.500000</td>\n",
       "      <td>841.500000</td>\n",
       "      <td>153.000000</td>\n",
       "      <td>4.000000</td>\n",
       "      <td>5.000000</td>\n",
       "      <td>750.000000</td>\n",
       "    </tr>\n",
       "    <tr>\n",
       "      <th>75%</th>\n",
       "      <td>2486.500000</td>\n",
       "      <td>8430.000000</td>\n",
       "      <td>5.860000</td>\n",
       "      <td>28.000000</td>\n",
       "      <td>1181.500000</td>\n",
       "      <td>202.750000</td>\n",
       "      <td>17.750000</td>\n",
       "      <td>26.000000</td>\n",
       "      <td>1031.000000</td>\n",
       "    </tr>\n",
       "    <tr>\n",
       "      <th>max</th>\n",
       "      <td>2882.000000</td>\n",
       "      <td>13146.000000</td>\n",
       "      <td>9.460000</td>\n",
       "      <td>64.000000</td>\n",
       "      <td>1440.000000</td>\n",
       "      <td>334.000000</td>\n",
       "      <td>61.000000</td>\n",
       "      <td>63.000000</td>\n",
       "      <td>1512.000000</td>\n",
       "    </tr>\n",
       "  </tbody>\n",
       "</table>\n",
       "</div>"
      ],
      "text/plain": [
       "       Calories Burned         Steps   Distance     Floors  Minutes Sedentary  \\\n",
       "count        54.000000     54.000000  54.000000  54.000000          54.000000   \n",
       "mean       2197.203704   5273.648148   3.888704  17.518519         937.277778   \n",
       "std         380.308632   3853.535437   2.861385  14.961259         292.447539   \n",
       "min        1210.000000      0.000000   0.000000   0.000000         358.000000   \n",
       "25%        1992.500000   2234.250000   1.600000   9.000000         728.250000   \n",
       "50%        2259.500000   5117.500000   3.835000  13.500000         841.500000   \n",
       "75%        2486.500000   8430.000000   5.860000  28.000000        1181.500000   \n",
       "max        2882.000000  13146.000000   9.460000  64.000000        1440.000000   \n",
       "\n",
       "       Minutes Lightly Active  Minutes Fairly Active  Minutes Very Active  \\\n",
       "count               54.000000              54.000000            54.000000   \n",
       "mean               139.629630              10.296296            13.870370   \n",
       "std                 90.649709              12.962398            18.065965   \n",
       "min                  0.000000               0.000000             0.000000   \n",
       "25%                 86.250000               0.000000             0.000000   \n",
       "50%                153.000000               4.000000             5.000000   \n",
       "75%                202.750000              17.750000            26.000000   \n",
       "max                334.000000              61.000000            63.000000   \n",
       "\n",
       "       Activity Calories  \n",
       "count          54.000000  \n",
       "mean          671.166667  \n",
       "std           461.170854  \n",
       "min             0.000000  \n",
       "25%           277.250000  \n",
       "50%           750.000000  \n",
       "75%          1031.000000  \n",
       "max          1512.000000  "
      ]
     },
     "execution_count": 91,
     "metadata": {},
     "output_type": "execute_result"
    }
   ],
   "source": [
    "activities.describe()"
   ]
  },
  {
   "cell_type": "markdown",
   "metadata": {},
   "source": [
    "Check what the sleep data looks like."
   ]
  },
  {
   "cell_type": "code",
   "execution_count": 92,
   "metadata": {
    "scrolled": true
   },
   "outputs": [
    {
     "data": {
      "text/html": [
       "<div>\n",
       "<style scoped>\n",
       "    .dataframe tbody tr th:only-of-type {\n",
       "        vertical-align: middle;\n",
       "    }\n",
       "\n",
       "    .dataframe tbody tr th {\n",
       "        vertical-align: top;\n",
       "    }\n",
       "\n",
       "    .dataframe thead th {\n",
       "        text-align: right;\n",
       "    }\n",
       "</style>\n",
       "<table border=\"1\" class=\"dataframe\">\n",
       "  <thead>\n",
       "    <tr style=\"text-align: right;\">\n",
       "      <th></th>\n",
       "      <th>Start Time</th>\n",
       "      <th>End Time</th>\n",
       "      <th>Minutes Asleep</th>\n",
       "      <th>Minutes Awake</th>\n",
       "      <th>Number of Awakenings</th>\n",
       "      <th>Time in Bed</th>\n",
       "      <th>Minutes REM Sleep</th>\n",
       "      <th>Minutes Light Sleep</th>\n",
       "      <th>Minutes Deep Sleep</th>\n",
       "    </tr>\n",
       "    <tr>\n",
       "      <th>Date</th>\n",
       "      <th></th>\n",
       "      <th></th>\n",
       "      <th></th>\n",
       "      <th></th>\n",
       "      <th></th>\n",
       "      <th></th>\n",
       "      <th></th>\n",
       "      <th></th>\n",
       "      <th></th>\n",
       "    </tr>\n",
       "  </thead>\n",
       "  <tbody>\n",
       "    <tr>\n",
       "      <th>2019-04-22</th>\n",
       "      <td>2019-04-22 9:54PM</td>\n",
       "      <td>2019-04-23 5:25AM</td>\n",
       "      <td>410</td>\n",
       "      <td>41</td>\n",
       "      <td>27</td>\n",
       "      <td>451</td>\n",
       "      <td>94.0</td>\n",
       "      <td>251.0</td>\n",
       "      <td>65.0</td>\n",
       "    </tr>\n",
       "    <tr>\n",
       "      <th>2019-04-21</th>\n",
       "      <td>2019-04-21 9:42PM</td>\n",
       "      <td>2019-04-22 5:27AM</td>\n",
       "      <td>420</td>\n",
       "      <td>45</td>\n",
       "      <td>18</td>\n",
       "      <td>465</td>\n",
       "      <td>90.0</td>\n",
       "      <td>273.0</td>\n",
       "      <td>57.0</td>\n",
       "    </tr>\n",
       "    <tr>\n",
       "      <th>2019-04-20</th>\n",
       "      <td>2019-04-20 11:36PM</td>\n",
       "      <td>2019-04-21 7:06AM</td>\n",
       "      <td>423</td>\n",
       "      <td>27</td>\n",
       "      <td>21</td>\n",
       "      <td>450</td>\n",
       "      <td>130.0</td>\n",
       "      <td>247.0</td>\n",
       "      <td>46.0</td>\n",
       "    </tr>\n",
       "    <tr>\n",
       "      <th>2019-04-19</th>\n",
       "      <td>2019-04-19 11:34PM</td>\n",
       "      <td>2019-04-20 7:04AM</td>\n",
       "      <td>413</td>\n",
       "      <td>36</td>\n",
       "      <td>23</td>\n",
       "      <td>449</td>\n",
       "      <td>124.0</td>\n",
       "      <td>227.0</td>\n",
       "      <td>62.0</td>\n",
       "    </tr>\n",
       "    <tr>\n",
       "      <th>2019-04-18</th>\n",
       "      <td>2019-04-18 9:48PM</td>\n",
       "      <td>2019-04-19 5:02AM</td>\n",
       "      <td>391</td>\n",
       "      <td>43</td>\n",
       "      <td>23</td>\n",
       "      <td>434</td>\n",
       "      <td>93.0</td>\n",
       "      <td>257.0</td>\n",
       "      <td>41.0</td>\n",
       "    </tr>\n",
       "  </tbody>\n",
       "</table>\n",
       "</div>"
      ],
      "text/plain": [
       "                    Start Time           End Time  Minutes Asleep  \\\n",
       "Date                                                                \n",
       "2019-04-22   2019-04-22 9:54PM  2019-04-23 5:25AM             410   \n",
       "2019-04-21   2019-04-21 9:42PM  2019-04-22 5:27AM             420   \n",
       "2019-04-20  2019-04-20 11:36PM  2019-04-21 7:06AM             423   \n",
       "2019-04-19  2019-04-19 11:34PM  2019-04-20 7:04AM             413   \n",
       "2019-04-18   2019-04-18 9:48PM  2019-04-19 5:02AM             391   \n",
       "\n",
       "            Minutes Awake  Number of Awakenings  Time in Bed  \\\n",
       "Date                                                           \n",
       "2019-04-22             41                    27          451   \n",
       "2019-04-21             45                    18          465   \n",
       "2019-04-20             27                    21          450   \n",
       "2019-04-19             36                    23          449   \n",
       "2019-04-18             43                    23          434   \n",
       "\n",
       "            Minutes REM Sleep  Minutes Light Sleep  Minutes Deep Sleep  \n",
       "Date                                                                    \n",
       "2019-04-22               94.0                251.0                65.0  \n",
       "2019-04-21               90.0                273.0                57.0  \n",
       "2019-04-20              130.0                247.0                46.0  \n",
       "2019-04-19              124.0                227.0                62.0  \n",
       "2019-04-18               93.0                257.0                41.0  "
      ]
     },
     "execution_count": 92,
     "metadata": {},
     "output_type": "execute_result"
    }
   ],
   "source": [
    "sleep.index = pd.to_datetime(sleep['Start Time']).dt.date\n",
    "sleep.index = pd.to_datetime(sleep.index)\n",
    "sleep.index.name = 'Date'\n",
    "sleep.head()"
   ]
  },
  {
   "cell_type": "code",
   "execution_count": 93,
   "metadata": {
    "scrolled": true
   },
   "outputs": [
    {
     "name": "stdout",
     "output_type": "stream",
     "text": [
      "<class 'pandas.core.frame.DataFrame'>\n",
      "DatetimeIndex: 41 entries, 2019-04-22 to 2019-02-28\n",
      "Data columns (total 9 columns):\n",
      "Start Time              41 non-null object\n",
      "End Time                41 non-null object\n",
      "Minutes Asleep          41 non-null int64\n",
      "Minutes Awake           41 non-null int64\n",
      "Number of Awakenings    41 non-null int64\n",
      "Time in Bed             41 non-null int64\n",
      "Minutes REM Sleep       30 non-null float64\n",
      "Minutes Light Sleep     30 non-null float64\n",
      "Minutes Deep Sleep      30 non-null float64\n",
      "dtypes: float64(3), int64(4), object(2)\n",
      "memory usage: 3.2+ KB\n"
     ]
    }
   ],
   "source": [
    "sleep.info()"
   ]
  },
  {
   "cell_type": "code",
   "execution_count": 94,
   "metadata": {
    "scrolled": false
   },
   "outputs": [
    {
     "data": {
      "text/html": [
       "<div>\n",
       "<style scoped>\n",
       "    .dataframe tbody tr th:only-of-type {\n",
       "        vertical-align: middle;\n",
       "    }\n",
       "\n",
       "    .dataframe tbody tr th {\n",
       "        vertical-align: top;\n",
       "    }\n",
       "\n",
       "    .dataframe thead th {\n",
       "        text-align: right;\n",
       "    }\n",
       "</style>\n",
       "<table border=\"1\" class=\"dataframe\">\n",
       "  <thead>\n",
       "    <tr style=\"text-align: right;\">\n",
       "      <th></th>\n",
       "      <th>Minutes Asleep</th>\n",
       "      <th>Minutes Awake</th>\n",
       "      <th>Number of Awakenings</th>\n",
       "      <th>Time in Bed</th>\n",
       "      <th>Minutes REM Sleep</th>\n",
       "      <th>Minutes Light Sleep</th>\n",
       "      <th>Minutes Deep Sleep</th>\n",
       "    </tr>\n",
       "  </thead>\n",
       "  <tbody>\n",
       "    <tr>\n",
       "      <th>count</th>\n",
       "      <td>41.000000</td>\n",
       "      <td>41.000000</td>\n",
       "      <td>41.000000</td>\n",
       "      <td>41.000000</td>\n",
       "      <td>30.000000</td>\n",
       "      <td>30.000000</td>\n",
       "      <td>30.000000</td>\n",
       "    </tr>\n",
       "    <tr>\n",
       "      <th>mean</th>\n",
       "      <td>392.609756</td>\n",
       "      <td>33.268293</td>\n",
       "      <td>17.048780</td>\n",
       "      <td>425.878049</td>\n",
       "      <td>110.733333</td>\n",
       "      <td>220.433333</td>\n",
       "      <td>70.766667</td>\n",
       "    </tr>\n",
       "    <tr>\n",
       "      <th>std</th>\n",
       "      <td>67.920129</td>\n",
       "      <td>14.705483</td>\n",
       "      <td>9.937181</td>\n",
       "      <td>75.640332</td>\n",
       "      <td>22.304991</td>\n",
       "      <td>34.319677</td>\n",
       "      <td>16.880275</td>\n",
       "    </tr>\n",
       "    <tr>\n",
       "      <th>min</th>\n",
       "      <td>144.000000</td>\n",
       "      <td>2.000000</td>\n",
       "      <td>0.000000</td>\n",
       "      <td>148.000000</td>\n",
       "      <td>74.000000</td>\n",
       "      <td>127.000000</td>\n",
       "      <td>41.000000</td>\n",
       "    </tr>\n",
       "    <tr>\n",
       "      <th>25%</th>\n",
       "      <td>364.000000</td>\n",
       "      <td>24.000000</td>\n",
       "      <td>3.000000</td>\n",
       "      <td>390.000000</td>\n",
       "      <td>94.000000</td>\n",
       "      <td>200.500000</td>\n",
       "      <td>59.500000</td>\n",
       "    </tr>\n",
       "    <tr>\n",
       "      <th>50%</th>\n",
       "      <td>406.000000</td>\n",
       "      <td>34.000000</td>\n",
       "      <td>21.000000</td>\n",
       "      <td>441.000000</td>\n",
       "      <td>111.000000</td>\n",
       "      <td>216.500000</td>\n",
       "      <td>70.500000</td>\n",
       "    </tr>\n",
       "    <tr>\n",
       "      <th>75%</th>\n",
       "      <td>416.000000</td>\n",
       "      <td>43.000000</td>\n",
       "      <td>24.000000</td>\n",
       "      <td>457.000000</td>\n",
       "      <td>124.750000</td>\n",
       "      <td>244.750000</td>\n",
       "      <td>78.500000</td>\n",
       "    </tr>\n",
       "    <tr>\n",
       "      <th>max</th>\n",
       "      <td>555.000000</td>\n",
       "      <td>62.000000</td>\n",
       "      <td>31.000000</td>\n",
       "      <td>594.000000</td>\n",
       "      <td>192.000000</td>\n",
       "      <td>294.000000</td>\n",
       "      <td>108.000000</td>\n",
       "    </tr>\n",
       "  </tbody>\n",
       "</table>\n",
       "</div>"
      ],
      "text/plain": [
       "       Minutes Asleep  Minutes Awake  Number of Awakenings  Time in Bed  \\\n",
       "count       41.000000      41.000000             41.000000    41.000000   \n",
       "mean       392.609756      33.268293             17.048780   425.878049   \n",
       "std         67.920129      14.705483              9.937181    75.640332   \n",
       "min        144.000000       2.000000              0.000000   148.000000   \n",
       "25%        364.000000      24.000000              3.000000   390.000000   \n",
       "50%        406.000000      34.000000             21.000000   441.000000   \n",
       "75%        416.000000      43.000000             24.000000   457.000000   \n",
       "max        555.000000      62.000000             31.000000   594.000000   \n",
       "\n",
       "       Minutes REM Sleep  Minutes Light Sleep  Minutes Deep Sleep  \n",
       "count          30.000000            30.000000           30.000000  \n",
       "mean          110.733333           220.433333           70.766667  \n",
       "std            22.304991            34.319677           16.880275  \n",
       "min            74.000000           127.000000           41.000000  \n",
       "25%            94.000000           200.500000           59.500000  \n",
       "50%           111.000000           216.500000           70.500000  \n",
       "75%           124.750000           244.750000           78.500000  \n",
       "max           192.000000           294.000000          108.000000  "
      ]
     },
     "execution_count": 94,
     "metadata": {},
     "output_type": "execute_result"
    }
   ],
   "source": [
    "sleep.describe()"
   ]
  },
  {
   "cell_type": "markdown",
   "metadata": {},
   "source": [
    "Deep sleep fluctuates on average 17 minutes from the mean, which is 70 minutes per night. This is a 10% fluctuation."
   ]
  },
  {
   "cell_type": "markdown",
   "metadata": {},
   "source": [
    "## Clean"
   ]
  },
  {
   "cell_type": "markdown",
   "metadata": {},
   "source": [
    "Remove the empty values from the sleep data and join the data sets retaining only the dates for which there is full information."
   ]
  },
  {
   "cell_type": "code",
   "execution_count": 95,
   "metadata": {
    "scrolled": true
   },
   "outputs": [],
   "source": [
    "sleep = sleep.dropna(how='any')"
   ]
  },
  {
   "cell_type": "code",
   "execution_count": 98,
   "metadata": {
    "scrolled": true
   },
   "outputs": [],
   "source": [
    "data = activities.merge(sleep, how='inner', left_index=True, right_index=True)b"
   ]
  },
  {
   "cell_type": "markdown",
   "metadata": {},
   "source": [
    "Let's remove some of the columns we don't need."
   ]
  },
  {
   "cell_type": "code",
   "execution_count": 102,
   "metadata": {},
   "outputs": [
    {
     "data": {
      "text/plain": [
       "Index(['Calories Burned', 'Steps', 'Distance', 'Floors', 'Minutes Sedentary',\n",
       "       'Minutes Lightly Active', 'Minutes Fairly Active',\n",
       "       'Minutes Very Active', 'Activity Calories', 'Start Time', 'End Time',\n",
       "       'Minutes Asleep', 'Minutes Awake', 'Number of Awakenings',\n",
       "       'Time in Bed', 'Minutes REM Sleep', 'Minutes Light Sleep',\n",
       "       'Minutes Deep Sleep'],\n",
       "      dtype='object')"
      ]
     },
     "execution_count": 102,
     "metadata": {},
     "output_type": "execute_result"
    }
   ],
   "source": [
    "data.columns"
   ]
  },
  {
   "cell_type": "code",
   "execution_count": 104,
   "metadata": {},
   "outputs": [],
   "source": [
    "data = data.drop(['Distance', 'Start Time', 'End Time', 'Time in Bed'], axis=1)"
   ]
  },
  {
   "cell_type": "markdown",
   "metadata": {},
   "source": [
    "# Analysis"
   ]
  },
  {
   "cell_type": "markdown",
   "metadata": {},
   "source": [
    "## Correlations"
   ]
  },
  {
   "cell_type": "code",
   "execution_count": 110,
   "metadata": {},
   "outputs": [
    {
     "data": {
      "text/html": [
       "<div>\n",
       "<style scoped>\n",
       "    .dataframe tbody tr th:only-of-type {\n",
       "        vertical-align: middle;\n",
       "    }\n",
       "\n",
       "    .dataframe tbody tr th {\n",
       "        vertical-align: top;\n",
       "    }\n",
       "\n",
       "    .dataframe thead th {\n",
       "        text-align: right;\n",
       "    }\n",
       "</style>\n",
       "<table border=\"1\" class=\"dataframe\">\n",
       "  <thead>\n",
       "    <tr style=\"text-align: right;\">\n",
       "      <th></th>\n",
       "      <th>Calories Burned</th>\n",
       "      <th>Steps</th>\n",
       "      <th>Floors</th>\n",
       "      <th>Minutes Sedentary</th>\n",
       "      <th>Minutes Lightly Active</th>\n",
       "      <th>Minutes Fairly Active</th>\n",
       "      <th>Minutes Very Active</th>\n",
       "      <th>Activity Calories</th>\n",
       "      <th>Minutes Asleep</th>\n",
       "      <th>Minutes Awake</th>\n",
       "      <th>Number of Awakenings</th>\n",
       "      <th>Minutes REM Sleep</th>\n",
       "      <th>Minutes Light Sleep</th>\n",
       "      <th>Minutes Deep Sleep</th>\n",
       "    </tr>\n",
       "  </thead>\n",
       "  <tbody>\n",
       "    <tr>\n",
       "      <th>Calories Burned</th>\n",
       "      <td>1.000000</td>\n",
       "      <td>0.894639</td>\n",
       "      <td>NaN</td>\n",
       "      <td>NaN</td>\n",
       "      <td>0.724174</td>\n",
       "      <td>0.725167</td>\n",
       "      <td>0.711023</td>\n",
       "      <td>0.988429</td>\n",
       "      <td>NaN</td>\n",
       "      <td>NaN</td>\n",
       "      <td>NaN</td>\n",
       "      <td>NaN</td>\n",
       "      <td>NaN</td>\n",
       "      <td>NaN</td>\n",
       "    </tr>\n",
       "    <tr>\n",
       "      <th>Steps</th>\n",
       "      <td>0.894639</td>\n",
       "      <td>1.000000</td>\n",
       "      <td>0.730826</td>\n",
       "      <td>NaN</td>\n",
       "      <td>NaN</td>\n",
       "      <td>NaN</td>\n",
       "      <td>0.798883</td>\n",
       "      <td>0.903977</td>\n",
       "      <td>NaN</td>\n",
       "      <td>NaN</td>\n",
       "      <td>NaN</td>\n",
       "      <td>NaN</td>\n",
       "      <td>NaN</td>\n",
       "      <td>NaN</td>\n",
       "    </tr>\n",
       "    <tr>\n",
       "      <th>Floors</th>\n",
       "      <td>NaN</td>\n",
       "      <td>0.730826</td>\n",
       "      <td>1.000000</td>\n",
       "      <td>NaN</td>\n",
       "      <td>NaN</td>\n",
       "      <td>NaN</td>\n",
       "      <td>NaN</td>\n",
       "      <td>NaN</td>\n",
       "      <td>NaN</td>\n",
       "      <td>NaN</td>\n",
       "      <td>NaN</td>\n",
       "      <td>NaN</td>\n",
       "      <td>NaN</td>\n",
       "      <td>NaN</td>\n",
       "    </tr>\n",
       "    <tr>\n",
       "      <th>Minutes Sedentary</th>\n",
       "      <td>NaN</td>\n",
       "      <td>NaN</td>\n",
       "      <td>NaN</td>\n",
       "      <td>1.0</td>\n",
       "      <td>NaN</td>\n",
       "      <td>NaN</td>\n",
       "      <td>NaN</td>\n",
       "      <td>NaN</td>\n",
       "      <td>NaN</td>\n",
       "      <td>NaN</td>\n",
       "      <td>NaN</td>\n",
       "      <td>NaN</td>\n",
       "      <td>NaN</td>\n",
       "      <td>NaN</td>\n",
       "    </tr>\n",
       "    <tr>\n",
       "      <th>Minutes Lightly Active</th>\n",
       "      <td>0.724174</td>\n",
       "      <td>NaN</td>\n",
       "      <td>NaN</td>\n",
       "      <td>NaN</td>\n",
       "      <td>1.000000</td>\n",
       "      <td>NaN</td>\n",
       "      <td>NaN</td>\n",
       "      <td>0.769719</td>\n",
       "      <td>NaN</td>\n",
       "      <td>NaN</td>\n",
       "      <td>NaN</td>\n",
       "      <td>NaN</td>\n",
       "      <td>NaN</td>\n",
       "      <td>NaN</td>\n",
       "    </tr>\n",
       "    <tr>\n",
       "      <th>Minutes Fairly Active</th>\n",
       "      <td>0.725167</td>\n",
       "      <td>NaN</td>\n",
       "      <td>NaN</td>\n",
       "      <td>NaN</td>\n",
       "      <td>NaN</td>\n",
       "      <td>1.000000</td>\n",
       "      <td>NaN</td>\n",
       "      <td>0.741667</td>\n",
       "      <td>NaN</td>\n",
       "      <td>NaN</td>\n",
       "      <td>NaN</td>\n",
       "      <td>NaN</td>\n",
       "      <td>NaN</td>\n",
       "      <td>NaN</td>\n",
       "    </tr>\n",
       "    <tr>\n",
       "      <th>Minutes Very Active</th>\n",
       "      <td>0.711023</td>\n",
       "      <td>0.798883</td>\n",
       "      <td>NaN</td>\n",
       "      <td>NaN</td>\n",
       "      <td>NaN</td>\n",
       "      <td>NaN</td>\n",
       "      <td>1.000000</td>\n",
       "      <td>NaN</td>\n",
       "      <td>NaN</td>\n",
       "      <td>NaN</td>\n",
       "      <td>NaN</td>\n",
       "      <td>NaN</td>\n",
       "      <td>NaN</td>\n",
       "      <td>NaN</td>\n",
       "    </tr>\n",
       "    <tr>\n",
       "      <th>Activity Calories</th>\n",
       "      <td>0.988429</td>\n",
       "      <td>0.903977</td>\n",
       "      <td>NaN</td>\n",
       "      <td>NaN</td>\n",
       "      <td>0.769719</td>\n",
       "      <td>0.741667</td>\n",
       "      <td>NaN</td>\n",
       "      <td>1.000000</td>\n",
       "      <td>NaN</td>\n",
       "      <td>NaN</td>\n",
       "      <td>NaN</td>\n",
       "      <td>NaN</td>\n",
       "      <td>NaN</td>\n",
       "      <td>NaN</td>\n",
       "    </tr>\n",
       "    <tr>\n",
       "      <th>Minutes Asleep</th>\n",
       "      <td>NaN</td>\n",
       "      <td>NaN</td>\n",
       "      <td>NaN</td>\n",
       "      <td>NaN</td>\n",
       "      <td>NaN</td>\n",
       "      <td>NaN</td>\n",
       "      <td>NaN</td>\n",
       "      <td>NaN</td>\n",
       "      <td>1.000000</td>\n",
       "      <td>NaN</td>\n",
       "      <td>NaN</td>\n",
       "      <td>0.738639</td>\n",
       "      <td>NaN</td>\n",
       "      <td>NaN</td>\n",
       "    </tr>\n",
       "    <tr>\n",
       "      <th>Minutes Awake</th>\n",
       "      <td>NaN</td>\n",
       "      <td>NaN</td>\n",
       "      <td>NaN</td>\n",
       "      <td>NaN</td>\n",
       "      <td>NaN</td>\n",
       "      <td>NaN</td>\n",
       "      <td>NaN</td>\n",
       "      <td>NaN</td>\n",
       "      <td>NaN</td>\n",
       "      <td>1.0</td>\n",
       "      <td>NaN</td>\n",
       "      <td>NaN</td>\n",
       "      <td>NaN</td>\n",
       "      <td>NaN</td>\n",
       "    </tr>\n",
       "    <tr>\n",
       "      <th>Number of Awakenings</th>\n",
       "      <td>NaN</td>\n",
       "      <td>NaN</td>\n",
       "      <td>NaN</td>\n",
       "      <td>NaN</td>\n",
       "      <td>NaN</td>\n",
       "      <td>NaN</td>\n",
       "      <td>NaN</td>\n",
       "      <td>NaN</td>\n",
       "      <td>NaN</td>\n",
       "      <td>NaN</td>\n",
       "      <td>1.0</td>\n",
       "      <td>NaN</td>\n",
       "      <td>NaN</td>\n",
       "      <td>NaN</td>\n",
       "    </tr>\n",
       "    <tr>\n",
       "      <th>Minutes REM Sleep</th>\n",
       "      <td>NaN</td>\n",
       "      <td>NaN</td>\n",
       "      <td>NaN</td>\n",
       "      <td>NaN</td>\n",
       "      <td>NaN</td>\n",
       "      <td>NaN</td>\n",
       "      <td>NaN</td>\n",
       "      <td>NaN</td>\n",
       "      <td>0.738639</td>\n",
       "      <td>NaN</td>\n",
       "      <td>NaN</td>\n",
       "      <td>1.000000</td>\n",
       "      <td>NaN</td>\n",
       "      <td>NaN</td>\n",
       "    </tr>\n",
       "    <tr>\n",
       "      <th>Minutes Light Sleep</th>\n",
       "      <td>NaN</td>\n",
       "      <td>NaN</td>\n",
       "      <td>NaN</td>\n",
       "      <td>NaN</td>\n",
       "      <td>NaN</td>\n",
       "      <td>NaN</td>\n",
       "      <td>NaN</td>\n",
       "      <td>NaN</td>\n",
       "      <td>NaN</td>\n",
       "      <td>NaN</td>\n",
       "      <td>NaN</td>\n",
       "      <td>NaN</td>\n",
       "      <td>1.0</td>\n",
       "      <td>NaN</td>\n",
       "    </tr>\n",
       "    <tr>\n",
       "      <th>Minutes Deep Sleep</th>\n",
       "      <td>NaN</td>\n",
       "      <td>NaN</td>\n",
       "      <td>NaN</td>\n",
       "      <td>NaN</td>\n",
       "      <td>NaN</td>\n",
       "      <td>NaN</td>\n",
       "      <td>NaN</td>\n",
       "      <td>NaN</td>\n",
       "      <td>NaN</td>\n",
       "      <td>NaN</td>\n",
       "      <td>NaN</td>\n",
       "      <td>NaN</td>\n",
       "      <td>NaN</td>\n",
       "      <td>1.0</td>\n",
       "    </tr>\n",
       "  </tbody>\n",
       "</table>\n",
       "</div>"
      ],
      "text/plain": [
       "                        Calories Burned     Steps    Floors  \\\n",
       "Calories Burned                1.000000  0.894639       NaN   \n",
       "Steps                          0.894639  1.000000  0.730826   \n",
       "Floors                              NaN  0.730826  1.000000   \n",
       "Minutes Sedentary                   NaN       NaN       NaN   \n",
       "Minutes Lightly Active         0.724174       NaN       NaN   \n",
       "Minutes Fairly Active          0.725167       NaN       NaN   \n",
       "Minutes Very Active            0.711023  0.798883       NaN   \n",
       "Activity Calories              0.988429  0.903977       NaN   \n",
       "Minutes Asleep                      NaN       NaN       NaN   \n",
       "Minutes Awake                       NaN       NaN       NaN   \n",
       "Number of Awakenings                NaN       NaN       NaN   \n",
       "Minutes REM Sleep                   NaN       NaN       NaN   \n",
       "Minutes Light Sleep                 NaN       NaN       NaN   \n",
       "Minutes Deep Sleep                  NaN       NaN       NaN   \n",
       "\n",
       "                        Minutes Sedentary  Minutes Lightly Active  \\\n",
       "Calories Burned                       NaN                0.724174   \n",
       "Steps                                 NaN                     NaN   \n",
       "Floors                                NaN                     NaN   \n",
       "Minutes Sedentary                     1.0                     NaN   \n",
       "Minutes Lightly Active                NaN                1.000000   \n",
       "Minutes Fairly Active                 NaN                     NaN   \n",
       "Minutes Very Active                   NaN                     NaN   \n",
       "Activity Calories                     NaN                0.769719   \n",
       "Minutes Asleep                        NaN                     NaN   \n",
       "Minutes Awake                         NaN                     NaN   \n",
       "Number of Awakenings                  NaN                     NaN   \n",
       "Minutes REM Sleep                     NaN                     NaN   \n",
       "Minutes Light Sleep                   NaN                     NaN   \n",
       "Minutes Deep Sleep                    NaN                     NaN   \n",
       "\n",
       "                        Minutes Fairly Active  Minutes Very Active  \\\n",
       "Calories Burned                      0.725167             0.711023   \n",
       "Steps                                     NaN             0.798883   \n",
       "Floors                                    NaN                  NaN   \n",
       "Minutes Sedentary                         NaN                  NaN   \n",
       "Minutes Lightly Active                    NaN                  NaN   \n",
       "Minutes Fairly Active                1.000000                  NaN   \n",
       "Minutes Very Active                       NaN             1.000000   \n",
       "Activity Calories                    0.741667                  NaN   \n",
       "Minutes Asleep                            NaN                  NaN   \n",
       "Minutes Awake                             NaN                  NaN   \n",
       "Number of Awakenings                      NaN                  NaN   \n",
       "Minutes REM Sleep                         NaN                  NaN   \n",
       "Minutes Light Sleep                       NaN                  NaN   \n",
       "Minutes Deep Sleep                        NaN                  NaN   \n",
       "\n",
       "                        Activity Calories  Minutes Asleep  Minutes Awake  \\\n",
       "Calories Burned                  0.988429             NaN            NaN   \n",
       "Steps                            0.903977             NaN            NaN   \n",
       "Floors                                NaN             NaN            NaN   \n",
       "Minutes Sedentary                     NaN             NaN            NaN   \n",
       "Minutes Lightly Active           0.769719             NaN            NaN   \n",
       "Minutes Fairly Active            0.741667             NaN            NaN   \n",
       "Minutes Very Active                   NaN             NaN            NaN   \n",
       "Activity Calories                1.000000             NaN            NaN   \n",
       "Minutes Asleep                        NaN        1.000000            NaN   \n",
       "Minutes Awake                         NaN             NaN            1.0   \n",
       "Number of Awakenings                  NaN             NaN            NaN   \n",
       "Minutes REM Sleep                     NaN        0.738639            NaN   \n",
       "Minutes Light Sleep                   NaN             NaN            NaN   \n",
       "Minutes Deep Sleep                    NaN             NaN            NaN   \n",
       "\n",
       "                        Number of Awakenings  Minutes REM Sleep  \\\n",
       "Calories Burned                          NaN                NaN   \n",
       "Steps                                    NaN                NaN   \n",
       "Floors                                   NaN                NaN   \n",
       "Minutes Sedentary                        NaN                NaN   \n",
       "Minutes Lightly Active                   NaN                NaN   \n",
       "Minutes Fairly Active                    NaN                NaN   \n",
       "Minutes Very Active                      NaN                NaN   \n",
       "Activity Calories                        NaN                NaN   \n",
       "Minutes Asleep                           NaN           0.738639   \n",
       "Minutes Awake                            NaN                NaN   \n",
       "Number of Awakenings                     1.0                NaN   \n",
       "Minutes REM Sleep                        NaN           1.000000   \n",
       "Minutes Light Sleep                      NaN                NaN   \n",
       "Minutes Deep Sleep                       NaN                NaN   \n",
       "\n",
       "                        Minutes Light Sleep  Minutes Deep Sleep  \n",
       "Calories Burned                         NaN                 NaN  \n",
       "Steps                                   NaN                 NaN  \n",
       "Floors                                  NaN                 NaN  \n",
       "Minutes Sedentary                       NaN                 NaN  \n",
       "Minutes Lightly Active                  NaN                 NaN  \n",
       "Minutes Fairly Active                   NaN                 NaN  \n",
       "Minutes Very Active                     NaN                 NaN  \n",
       "Activity Calories                       NaN                 NaN  \n",
       "Minutes Asleep                          NaN                 NaN  \n",
       "Minutes Awake                           NaN                 NaN  \n",
       "Number of Awakenings                    NaN                 NaN  \n",
       "Minutes REM Sleep                       NaN                 NaN  \n",
       "Minutes Light Sleep                     1.0                 NaN  \n",
       "Minutes Deep Sleep                      NaN                 1.0  "
      ]
     },
     "execution_count": 110,
     "metadata": {},
     "output_type": "execute_result"
    }
   ],
   "source": [
    "data.corr().where(data.corr() > .7)"
   ]
  },
  {
   "cell_type": "markdown",
   "metadata": {},
   "source": [
    "Minutes Deep Sleep does not seem to be correlated with any measure of activity."
   ]
  },
  {
   "cell_type": "markdown",
   "metadata": {},
   "source": [
    "## Graphical Exploration"
   ]
  },
  {
   "cell_type": "markdown",
   "metadata": {},
   "source": [
    "### Activity Measures"
   ]
  },
  {
   "cell_type": "markdown",
   "metadata": {},
   "source": [
    "Let's check how the graphs look for the activity measures."
   ]
  },
  {
   "cell_type": "code",
   "execution_count": 113,
   "metadata": {},
   "outputs": [
    {
     "data": {
      "text/plain": [
       "<matplotlib.axes._subplots.AxesSubplot at 0x11f128710>"
      ]
     },
     "execution_count": 113,
     "metadata": {},
     "output_type": "execute_result"
    },
    {
     "data": {
      "image/png": "[encoded data removed]",
      "text/plain": [
       "<Figure size 432x288 with 1 Axes>"
      ]
     },
     "metadata": {
      "needs_background": "light"
     },
     "output_type": "display_data"
    }
   ],
   "source": [
    "data.loc[:, 'Minutes Very Active'].plot()"
   ]
  },
  {
   "cell_type": "code",
   "execution_count": 114,
   "metadata": {},
   "outputs": [
    {
     "data": {
      "text/plain": [
       "<matplotlib.axes._subplots.AxesSubplot at 0x11f504048>"
      ]
     },
     "execution_count": 114,
     "metadata": {},
     "output_type": "execute_result"
    },
    {
     "data": {
      "image/png": "[encoded data removed]",
      "text/plain": [
       "<Figure size 432x288 with 1 Axes>"
      ]
     },
     "metadata": {
      "needs_background": "light"
     },
     "output_type": "display_data"
    }
   ],
   "source": [
    "data.loc[:, 'Minutes Fairly Active'].plot()"
   ]
  },
  {
   "cell_type": "markdown",
   "metadata": {},
   "source": [
    "There seems to be a decrease in overall Minutes Very Active and an increase in the Minutes Fairly Active spot-on at the mark of March 30th, which is when I switched from cardio-based cutting workouts to a weights-based bulking routine. There might be something there."
   ]
  },
  {
   "cell_type": "markdown",
   "metadata": {},
   "source": [
    "### Sleep Measures"
   ]
  },
  {
   "cell_type": "code",
   "execution_count": 115,
   "metadata": {},
   "outputs": [
    {
     "data": {
      "text/plain": [
       "<matplotlib.axes._subplots.AxesSubplot at 0x11f5b4908>"
      ]
     },
     "execution_count": 115,
     "metadata": {},
     "output_type": "execute_result"
    },
    {
     "data": {
      "image/png": "[encoded data removed]",
      "text/plain": [
       "<Figure size 432x288 with 1 Axes>"
      ]
     },
     "metadata": {
      "needs_background": "light"
     },
     "output_type": "display_data"
    }
   ],
   "source": [
    "data.loc[:, 'Minutes Deep Sleep'].plot()"
   ]
  },
  {
   "cell_type": "code",
   "execution_count": 116,
   "metadata": {},
   "outputs": [
    {
     "data": {
      "text/plain": [
       "<matplotlib.axes._subplots.AxesSubplot at 0x11f5eff98>"
      ]
     },
     "execution_count": 116,
     "metadata": {},
     "output_type": "execute_result"
    },
    {
     "data": {
      "image/png": "[encoded data removed]",
      "text/plain": [
       "<Figure size 432x288 with 1 Axes>"
      ]
     },
     "metadata": {
      "needs_background": "light"
     },
     "output_type": "display_data"
    }
   ],
   "source": [
    "data.loc[:, 'Minutes REM Sleep'].plot()"
   ]
  },
  {
   "cell_type": "code",
   "execution_count": 117,
   "metadata": {},
   "outputs": [
    {
     "data": {
      "text/plain": [
       "<matplotlib.axes._subplots.AxesSubplot at 0x11f6126a0>"
      ]
     },
     "execution_count": 117,
     "metadata": {},
     "output_type": "execute_result"
    },
    {
     "data": {
      "image/png": "[encoded data removed]",
      "text/plain": [
       "<Figure size 432x288 with 1 Axes>"
      ]
     },
     "metadata": {
      "needs_background": "light"
     },
     "output_type": "display_data"
    }
   ],
   "source": [
    "data.loc[:, 'Minutes Light Sleep'].plot()"
   ]
  },
  {
   "cell_type": "markdown",
   "metadata": {},
   "source": [
    "There is a slight decrease in Minutes Deep Sleep that matches well with the change in workout routine."
   ]
  },
  {
   "cell_type": "markdown",
   "metadata": {},
   "source": [
    "## Linear Model"
   ]
  },
  {
   "cell_type": "markdown",
   "metadata": {},
   "source": [
    "Let's see if we can fit a model to the the activity measures and deep sleep."
   ]
  },
  {
   "cell_type": "code",
   "execution_count": 120,
   "metadata": {},
   "outputs": [
    {
     "data": {
      "text/plain": [
       "Index(['Calories Burned', 'Steps', 'Floors', 'Minutes Sedentary',\n",
       "       'Minutes Lightly Active', 'Minutes Fairly Active',\n",
       "       'Minutes Very Active', 'Activity Calories', 'Minutes Asleep',\n",
       "       'Minutes Awake', 'Number of Awakenings', 'Minutes REM Sleep',\n",
       "       'Minutes Light Sleep', 'Minutes Deep Sleep'],\n",
       "      dtype='object')"
      ]
     },
     "execution_count": 120,
     "metadata": {},
     "output_type": "execute_result"
    }
   ],
   "source": [
    "data.columns"
   ]
  },
  {
   "cell_type": "markdown",
   "metadata": {},
   "source": [
    "I am interested in the minutes of activity. Excluding minutes of inactivity will allow me to not scale the inputs as the minutes of activity measures are on the same scale, allowing me to get a good idea of the contribution of one minute of a given level activity on the time spent in deep sleep."
   ]
  },
  {
   "cell_type": "code",
   "execution_count": 134,
   "metadata": {},
   "outputs": [],
   "source": [
    "X = data.loc[:, [\n",
    "    'Minutes Lightly Active', 'Minutes Fairly Active', 'Minutes Very Active'\n",
    "]].values\n",
    "y = data.loc[:, 'Minutes Deep Sleep'].values\n",
    "X_const = sm.add_constant(X)\n",
    "model = sm.OLS(y, X_const)\n",
    "res = model.fit()"
   ]
  },
  {
   "cell_type": "code",
   "execution_count": 135,
   "metadata": {},
   "outputs": [
    {
     "data": {
      "text/plain": [
       "[93.24614308477237,\n",
       " -0.12363516808353628,\n",
       " -0.5826569583120719,\n",
       " 0.2620130674764157]"
      ]
     },
     "execution_count": 135,
     "metadata": {},
     "output_type": "execute_result"
    }
   ],
   "source": [
    "list(res.params)"
   ]
  },
  {
   "cell_type": "markdown",
   "metadata": {},
   "source": [
    "It seems like my baseline for deep sleep is an hour and a half per night. From there, Minutes Lightly Active and Minutes Fairly Active impact Minutes Deep Sleep negatively, with every minute of light activity reducing the time spent in deep sleep by half a minute.\n",
    "\n",
    "On the other hand, every minute of deep activity increases my deep sleep by 26 seconds."
   ]
  }
 ],
 "metadata": {
  "kernelspec": {
   "display_name": "Python 3",
   "language": "python",
   "name": "python3"
  },
  "language_info": {
   "codemirror_mode": {
    "name": "ipython",
    "version": 3
   },
   "file_extension": ".py",
   "mimetype": "text/x-python",
   "name": "python",
   "nbconvert_exporter": "python",
   "pygments_lexer": "ipython3",
   "version": "3.7.1"
  },
  "toc": {
   "nav_menu": {},
   "number_sections": true,
   "sideBar": true,
   "skip_h1_title": false,
   "toc_cell": false,
   "toc_position": {},
   "toc_section_display": "block",
   "toc_window_display": false
  }
 },
 "nbformat": 4,
 "nbformat_minor": 2
}
